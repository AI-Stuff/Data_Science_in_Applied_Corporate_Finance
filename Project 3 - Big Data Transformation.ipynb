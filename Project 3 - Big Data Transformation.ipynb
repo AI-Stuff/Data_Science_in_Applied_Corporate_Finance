{
 "cells": [
  {
   "cell_type": "markdown",
   "metadata": {},
   "source": [
    "# Project 3 - Big Data Transformation\n"
   ]
  },
  {
   "cell_type": "markdown",
   "metadata": {},
   "source": [
    "\n",
    "\n",
    "Bowen Chen\n",
    "\n",
    "January 30, 2018"
   ]
  },
  {
   "cell_type": "markdown",
   "metadata": {},
   "source": [
    "## Executive Summary"
   ]
  },
  {
   "cell_type": "markdown",
   "metadata": {},
   "source": [
    "In this project, the creation of a giant annual return dataset is performed. There is not much of calculation to be done in this project, but the scale and complexity of this dataset is the main challenge. The raw data file contains **daily return data for all stocks from 1926 to 2016** - a total of **90,628,391 rows** that consumes **4.335 GB** in total space. The data is also in a very messy format, with missing data and non-sensible data in numerical columns. After the cleaning activities performed in this project, the total number of rows are reduced to **386,656 rows** -  around 30 times smaller than the oringinal size. The missing data are also filled in as the appropriate values for further analysis.  "
   ]
  },
  {
   "cell_type": "markdown",
   "metadata": {},
   "source": [
    "## Objectives"
   ]
  },
  {
   "cell_type": "markdown",
   "metadata": {},
   "source": [
    "Create a annual return dataset that could be more useful for further analysis, without dropping out any rows that contains a bad format of data"
   ]
  },
  {
   "cell_type": "markdown",
   "metadata": {},
   "source": [
    "## Computations"
   ]
  },
  {
   "cell_type": "code",
   "execution_count": 26,
   "metadata": {
    "collapsed": true
   },
   "outputs": [],
   "source": [
    "# R Setup\n",
    "options(repr.plot.width= 6, repr.plot.height=4, warn = -1)\n",
    "\n",
    "library(data.table)\n",
    "library(lubridate)\n",
    "library(dplyr)\n",
    "library(qwraps2)"
   ]
  },
  {
   "cell_type": "markdown",
   "metadata": {},
   "source": [
    "**Import Data**\n",
    "\n",
    "The data consists of daily returns for all stocks from 1926-1-1 to 2016-12-31, since the size of the file is huge, the use of data.table packages are very important here. The data contains the following fields,\n",
    "\n",
    "\n",
    "* *PERMNO* - The unique stock identifier\n",
    "* *date* - The date, in daily frequency\n",
    "* *TICKER* - The corresponding ticker that the stock used in Exchange\n",
    "* *CUSIP* - The stock's identifier\n",
    "* *PRC* - The stock daily price\n",
    "* *RET* - The stock's daily holding period return after distribution adjustments\n",
    "* *SHROUT* - Number of shares outstanding\n",
    "\n"
   ]
  },
  {
   "cell_type": "code",
   "execution_count": 27,
   "metadata": {},
   "outputs": [
    {
     "name": "stdout",
     "output_type": "stream",
     "text": [
      "Read 14883379 rows and 7 (of 7) columns from 0.679 GB file in 00:00:16\n",
      "Read 75745012 rows and 7 (of 7) columns from 3.656 GB file in 00:01:19\n"
     ]
    }
   ],
   "source": [
    "StockReturns_1926_1972 = fread(\"data//daily_return_26_72.csv\")\n",
    "StockReturns_1973_2016 = fread(\"data//daily_return_73_16.csv\")"
   ]
  },
  {
   "cell_type": "markdown",
   "metadata": {},
   "source": [
    "Some summary statistics of these two datasets\n",
    "\n",
    "| Dataset Name | Total Rows | File Size   |\n",
    "|--------------|------------|-------------|\n",
    "| *Daily Return (1926 - 1972)* | 14883379 | 0.679 GB |\n",
    "| *Daily Return (1973 - 2016)* | 75745012 | 3.656 GB |\n",
    "| **Total**| **90628391** | **4.335 GB**|\n",
    "The dataset will takes around 2 minutes to load"
   ]
  },
  {
   "cell_type": "markdown",
   "metadata": {},
   "source": [
    "**Convert date to the correct format**"
   ]
  },
  {
   "cell_type": "code",
   "execution_count": 28,
   "metadata": {},
   "outputs": [
    {
     "data": {},
     "metadata": {},
     "output_type": "display_data"
    }
   ],
   "source": [
    "StockReturns_1926_1972[,  `:=` (date = as.Date(as.character(date), \n",
    "                                   format = '%Y%m%d', \n",
    "                                   origin = \"1910-10-01\"))]"
   ]
  },
  {
   "cell_type": "code",
   "execution_count": 29,
   "metadata": {},
   "outputs": [
    {
     "data": {},
     "metadata": {},
     "output_type": "display_data"
    }
   ],
   "source": [
    "StockReturns_1973_2016[,  `:=` (date = as.Date(as.character(date), \n",
    "                                   format = '%Y%m%d', \n",
    "                                   origin = \"1910-10-01\"))]"
   ]
  },
  {
   "cell_type": "markdown",
   "metadata": {},
   "source": [
    "**Return Column Data Cleaning**\n",
    "\n",
    "There are some return datas are blank and some are return as letters B, C or blank, these should all be set to 0. Converting the column to numeric does the job"
   ]
  },
  {
   "cell_type": "code",
   "execution_count": 30,
   "metadata": {},
   "outputs": [
    {
     "data": {},
     "metadata": {},
     "output_type": "display_data"
    },
    {
     "data": {},
     "metadata": {},
     "output_type": "display_data"
    }
   ],
   "source": [
    "StockReturns_1926_1972[, RET := as.numeric(RET)] \n",
    "StockReturns_1973_2016[, RET := as.numeric(RET)]"
   ]
  },
  {
   "cell_type": "markdown",
   "metadata": {},
   "source": [
    "Now make all \"NA\" values in RET column 0"
   ]
  },
  {
   "cell_type": "code",
   "execution_count": 31,
   "metadata": {},
   "outputs": [
    {
     "data": {},
     "metadata": {},
     "output_type": "display_data"
    },
    {
     "data": {},
     "metadata": {},
     "output_type": "display_data"
    }
   ],
   "source": [
    "StockReturns_1926_1972[is.na(RET), \"RET\" := 0]\n",
    "StockReturns_1973_2016[is.na(RET), \"RET\" := 0]"
   ]
  },
  {
   "cell_type": "markdown",
   "metadata": {
    "collapsed": true
   },
   "source": [
    "After the cleaning of the RET column is performed, there should be no abnormal values other than numeric values "
   ]
  },
  {
   "cell_type": "markdown",
   "metadata": {},
   "source": [
    "**Price Column Data Cleaning**\n",
    "\n",
    "The price column contains negative values. The documentation of the data field noted that \n",
    "\n",
    "* Prc is the closing price or the negative bid/ask average for a trading day.\n",
    "\n",
    "\n",
    "* If the closing price is not available on any given trading day, the number in the price field has a negative sign to indicate that it is a bid/ask average and not an actual closing price. \n",
    "\n",
    "\n",
    "* If neither closing price nor bid/ask average is available on a date, prc is set to zero.\n",
    "\n",
    "We assume that the *bid/ask average* could be treated as the stock price, therefore the negative values are all taken the absolute value"
   ]
  },
  {
   "cell_type": "code",
   "execution_count": 32,
   "metadata": {},
   "outputs": [
    {
     "data": {},
     "metadata": {},
     "output_type": "display_data"
    },
    {
     "data": {},
     "metadata": {},
     "output_type": "display_data"
    }
   ],
   "source": [
    "StockReturns_1926_1972[, PRC:= abs(PRC)]\n",
    "StockReturns_1973_2016[, PRC:= abs(PRC)]"
   ]
  },
  {
   "cell_type": "markdown",
   "metadata": {},
   "source": [
    "When the stock disappears, the price and number of shares outstanding are all showing NAs while Returns are 0 (as previously imputed). Use the same trick, set the NA *PRCs* and *SHROUTs* to 0"
   ]
  },
  {
   "cell_type": "code",
   "execution_count": 33,
   "metadata": {},
   "outputs": [
    {
     "data": {},
     "metadata": {},
     "output_type": "display_data"
    },
    {
     "data": {},
     "metadata": {},
     "output_type": "display_data"
    },
    {
     "data": {},
     "metadata": {},
     "output_type": "display_data"
    },
    {
     "data": {},
     "metadata": {},
     "output_type": "display_data"
    }
   ],
   "source": [
    "StockReturns_1926_1972[is.na(PRC), \"PRC\" := 0]\n",
    "StockReturns_1926_1972[is.na(SHROUT), \"SHROUT\" := 0]\n",
    "StockReturns_1973_2016[is.na(PRC), \"PRC\" := 0]\n",
    "StockReturns_1973_2016[is.na(SHROUT), \"SHROUT\" := 0]"
   ]
  },
  {
   "cell_type": "markdown",
   "metadata": {},
   "source": [
    "After the removal of the companies that has all 0s across the columns, check the top 5 rows of the data.table *StockReturns_1973_2016*"
   ]
  },
  {
   "cell_type": "code",
   "execution_count": 34,
   "metadata": {},
   "outputs": [
    {
     "name": "stdout",
     "output_type": "stream",
     "text": [
      "   PERMNO       date TICKER    CUSIP    PRC      RET SHROUT\n",
      "1:  10000 1986-01-06        68391610 0.0000  0.00000      0\n",
      "2:  10000 1986-01-07  OMFGA 68391610 2.5625  0.00000   3680\n",
      "3:  10000 1986-01-08  OMFGA 68391610 2.5000 -0.02439   3680\n",
      "4:  10000 1986-01-09  OMFGA 68391610 2.5000  0.00000   3680\n",
      "5:  10000 1986-01-10  OMFGA 68391610 2.5000  0.00000   3680\n"
     ]
    }
   ],
   "source": [
    "print(StockReturns_1973_2016[1:5,])"
   ]
  },
  {
   "cell_type": "markdown",
   "metadata": {},
   "source": [
    "** Annual Geometric Return and Market Cap**\n",
    "\n",
    "The annual geometric return could be found by \n",
    "\n",
    "$$ r_{geometric} = [(1 + r_1)(1 + r_2)\\cdots(1 + r_{n_{months}})] ^{\\frac{1}{n_{months}}} - 1$$\n",
    "\n",
    "The aggregation could be accomlished the *group_by* command in R \n",
    "\n",
    "Two assumptions are made:\n",
    "\n",
    "* If the company changes its ticker or CUSIP during the year, use the value of the last day of the year\n",
    "\n",
    "* The stock price and shares outstanding are chosen as the value of the last day of the year to calculate market cap\n",
    "\n",
    "Note: since the data.tables used in the calculation are huge, the original table needs to be removed to free up space to allow further calculations"
   ]
  },
  {
   "cell_type": "code",
   "execution_count": 35,
   "metadata": {
    "collapsed": true
   },
   "outputs": [],
   "source": [
    "StockAnnual_1926_1972 = StockReturns_1926_1972 %>% \n",
    "                                    group_by( PERMNO,\n",
    "                                              year= ceiling_date(date, \"year\") - 1) %>% \n",
    "\n",
    "                                    summarise(TICKER = last(TICKER),\n",
    "                                              CUSIP = last(CUSIP),\n",
    "                                              `Market Cap` = last(PRC) * last(SHROUT),\n",
    "                                              `Annual Return` = (function(r) prod(1 + r))(RET)) %>% as.data.table() "
   ]
  },
  {
   "cell_type": "code",
   "execution_count": 36,
   "metadata": {
    "collapsed": true
   },
   "outputs": [],
   "source": [
    "rm(StockReturns_1926_1972)"
   ]
  },
  {
   "cell_type": "code",
   "execution_count": 37,
   "metadata": {
    "collapsed": true
   },
   "outputs": [],
   "source": [
    "StockAnnual_1973_2016 = StockReturns_1973_2016 %>% \n",
    "                                    group_by( PERMNO,\n",
    "                                              year= ceiling_date(date, \"year\") - 1) %>% \n",
    "\n",
    "                                    summarise(TICKER = last(TICKER),\n",
    "                                              CUSIP = last(CUSIP),\n",
    "                                              `Market Cap` = last(PRC) * last(SHROUT),\n",
    "                                              `Annual Return` = (function(r) prod(1 + r))(RET))%>% as.data.table() "
   ]
  },
  {
   "cell_type": "code",
   "execution_count": 38,
   "metadata": {
    "collapsed": true
   },
   "outputs": [],
   "source": [
    "rm(StockReturns_1973_2016)"
   ]
  },
  {
   "cell_type": "markdown",
   "metadata": {},
   "source": [
    "**Ajust Return column to percentage terms**\n",
    "\n",
    "Take every value in *Annual Return* column and subtract 1"
   ]
  },
  {
   "cell_type": "code",
   "execution_count": 39,
   "metadata": {},
   "outputs": [
    {
     "data": {},
     "metadata": {},
     "output_type": "display_data"
    },
    {
     "data": {},
     "metadata": {},
     "output_type": "display_data"
    }
   ],
   "source": [
    "StockAnnual_1926_1972[, `Annual Return` :=`Annual Return` - 1]\n",
    "StockAnnual_1973_2016[, `Annual Return` := `Annual Return` - 1]"
   ]
  },
  {
   "cell_type": "markdown",
   "metadata": {},
   "source": [
    "Now have a look of the top 5 rows one of the two annual datasets"
   ]
  },
  {
   "cell_type": "code",
   "execution_count": 45,
   "metadata": {
    "scrolled": true
   },
   "outputs": [
    {
     "name": "stdout",
     "output_type": "stream",
     "text": [
      "   PERMNO       year TICKER    CUSIP Market Cap Annual Return\n",
      "1:  10000 1986-12-31  OMFGA 68391610   1981.566   -0.79878059\n",
      "2:  10000 1987-12-31  OMFGA 68391610      0.000   -0.57575850\n",
      "3:  10001 1986-12-31   GFGC 36720410   6937.000    0.29704516\n",
      "4:  10001 1987-12-31   GFGC 36720410   5828.000   -0.09898353\n",
      "5:  10001 1988-12-31   GFGC 36720410   6362.250    0.16085603\n"
     ]
    }
   ],
   "source": [
    "print(StockAnnual_1973_2016[1:5,])"
   ]
  },
  {
   "cell_type": "markdown",
   "metadata": {},
   "source": [
    "Two facts confirmed the correct implementation of the data transformation above\n",
    "\n",
    "1. The market cap will be 0 if the stock decide to exit the market, evident from stock **OMFGA** in 1987\n",
    "2. The stock does not have tickers back in 1926, but the return and market cap data should all be avaliable"
   ]
  },
  {
   "cell_type": "markdown",
   "metadata": {
    "collapsed": true
   },
   "source": [
    "**Union two datasets**\n",
    "\n",
    "Combine two datasets into one big dataset, sorted by both *PERMNO* and *date*"
   ]
  },
  {
   "cell_type": "code",
   "execution_count": 41,
   "metadata": {
    "collapsed": true
   },
   "outputs": [],
   "source": [
    "setkey(StockAnnual_1926_1972, \"PERMNO\")\n",
    "setkey(StockAnnual_1973_2016, \"PERMNO\")"
   ]
  },
  {
   "cell_type": "code",
   "execution_count": 42,
   "metadata": {
    "collapsed": true
   },
   "outputs": [],
   "source": [
    "StockAnnual = rbindlist(list(StockAnnual_1926_1972, StockAnnual_1973_2016),\n",
    "                        use.names= TRUE, fill = TRUE)"
   ]
  },
  {
   "cell_type": "markdown",
   "metadata": {},
   "source": [
    "Check top 10 rows of the resulting datatable"
   ]
  },
  {
   "cell_type": "code",
   "execution_count": 46,
   "metadata": {},
   "outputs": [
    {
     "name": "stdout",
     "output_type": "stream",
     "text": [
      "    PERMNO       year TICKER    CUSIP Market Cap Annual Return\n",
      " 1:  10006 1926-12-31        00080010      60900   0.008757617\n",
      " 2:  10006 1927-12-31        00080010      66150   0.150645231\n",
      " 3:  10006 1928-12-31        00080010      58875  -0.054262619\n",
      " 4:  10006 1929-12-31        00080010      46800  -0.153685438\n",
      " 5:  10006 1930-12-31        00080010      16500  -0.598322636\n",
      " 6:  10006 1931-12-31        00080010       4050  -0.739717117\n",
      " 7:  10006 1932-12-31        00080010       4200   0.037040870\n",
      " 8:  10006 1933-12-31        00080010      14700   2.499998585\n",
      " 9:  10006 1934-12-31        00080010      11100  -0.244895544\n",
      "10:  10006 1935-12-31        00080010      20325   0.831088490\n"
     ]
    }
   ],
   "source": [
    "print(StockAnnual[1:10, ])"
   ]
  },
  {
   "cell_type": "markdown",
   "metadata": {},
   "source": [
    "### Conclusion\n",
    "\n",
    "Cleaning up the data seems like a simple task, but it is a very important step. Real world datasets can be really messy, hence not suitable to conduct analysis directly. This project has successfully transformed a huge dataset (around 1 million rows) to a realtively smaller (30x smaller size), which could be crucial for efficiency and computing time needs. The result dataset will be more ready for analysis in the future."
   ]
  }
 ],
 "metadata": {
  "kernelspec": {
   "display_name": "R",
   "language": "R",
   "name": "ir"
  },
  "language_info": {
   "codemirror_mode": "r",
   "file_extension": ".r",
   "mimetype": "text/x-r-source",
   "name": "R",
   "pygments_lexer": "r",
   "version": "3.4.1"
  }
 },
 "nbformat": 4,
 "nbformat_minor": 2
}
