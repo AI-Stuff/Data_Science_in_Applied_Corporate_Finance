{
 "cells": [
  {
   "cell_type": "markdown",
   "metadata": {},
   "source": [
    "# Project 7 - Cross Sectional Regressions"
   ]
  },
  {
   "cell_type": "markdown",
   "metadata": {},
   "source": [
    "Bowen Chen\n",
    "\n",
    "March 8, 2018"
   ]
  },
  {
   "cell_type": "code",
   "execution_count": 80,
   "metadata": {},
   "outputs": [],
   "source": [
    "# R Setup\n",
    "options(repr.plot.width= 8, repr.plot.height=5, warn = -1)\n",
    "\n",
    "library(plyr)\n",
    "library(data.table)\n",
    "library(lubridate)\n",
    "library(dplyr)\n",
    "library(magrittr)\n",
    "library(ggplot2)"
   ]
  },
  {
   "cell_type": "markdown",
   "metadata": {},
   "source": [
    "## Executive Summary"
   ]
  },
  {
   "cell_type": "markdown",
   "metadata": {},
   "source": [
    "In this project, we attempt to examine if the 4 pre-designed factors,  **firm marketcap**, **price-normalized accruals**, **the earnings-price ratio**, and **1/price** are appropriate predictors for the stock returns. The annual frequency fundamentals data of all stocks (1950 - 2017) is downloaded from CRSP-compustat merged database. Cross-sectional regressions are performed on the year level. The coefficients are found below. \n",
    "\n",
    "\n",
    "\n",
    "| Intercept | Beta MktCap   | Beta E/P    | Beta A/R    | Beta 1/Price |\n",
    "|-----------|---------------|-------------|-------------|--------------|\n",
    "| 0.3244531 | -5.565982e-06 | 0.000603361 | -0.08465663 | -0.09723741  |\n",
    "\n",
    "\n",
    "\n",
    "The practice proved that these 4 factors are not great predictors of stock returns, while the **price-normalized accruals** showed some predictabilities in stock returns"
   ]
  },
  {
   "cell_type": "markdown",
   "metadata": {},
   "source": [
    "## Key Questions to Answer"
   ]
  },
  {
   "cell_type": "markdown",
   "metadata": {},
   "source": [
    "* Are the  4 pre-designed factors, firm marketcap, price-normalized accruals, the earnings-price ratio, and 1/price are appropriate predictors for the stock returns?\n",
    "\n",
    "* Which one of the 4 factors showed the most predictabilities in stock returns?"
   ]
  },
  {
   "cell_type": "markdown",
   "metadata": {},
   "source": [
    "## Computation"
   ]
  },
  {
   "cell_type": "markdown",
   "metadata": {},
   "source": [
    "\n",
    "The data consists of the following information for all stocks from 1950-1-1 to 2017-12-31, \n",
    "\n",
    "* *datadate* - The date data is recorded, in annual frequency\n",
    "* *fyear* - Fiscal year\n",
    "* *tic* - The corresponding ticker that the stock used in Exchange\n",
    "* *fyr* - not used\n",
    "* *csho* - Common shares outstanding\n",
    "* *ni* - Net Income\n",
    "* *reecch* - change in account receivables\n",
    "* *costat* - Company status, Inactive/Active\n",
    "* *prcc_f* - Fiscal year end stock prices"
   ]
  },
  {
   "cell_type": "code",
   "execution_count": 81,
   "metadata": {
    "collapsed": true
   },
   "outputs": [],
   "source": [
    "crossSectionalData  = fread('data/crosssectional_data.csv')"
   ]
  },
  {
   "cell_type": "code",
   "execution_count": 82,
   "metadata": {
    "collapsed": true
   },
   "outputs": [],
   "source": [
    "crossSectionalData = crossSectionalData %>% setNames(c(\"PERMNO\", \"Data Date\", \"Fiscal Year\", \"Ticker\", \"fyr\",\n",
    "                                              \"Shares Outstanding\", \"Net Income\", \"Change in A/R\",\n",
    "                                              \"Company Status\", \"Stock Prices\"))"
   ]
  },
  {
   "cell_type": "markdown",
   "metadata": {},
   "source": [
    "**Clean missing data**"
   ]
  },
  {
   "cell_type": "markdown",
   "metadata": {},
   "source": [
    "For simplicity reason, Remove all rows that has missing data"
   ]
  },
  {
   "cell_type": "code",
   "execution_count": 83,
   "metadata": {
    "collapsed": true
   },
   "outputs": [],
   "source": [
    "crossSectionalData = crossSectionalData[complete.cases(crossSectionalData), ]"
   ]
  },
  {
   "cell_type": "markdown",
   "metadata": {},
   "source": [
    "**Find the market cap, earnings price ratios, price normalized accurals, 1/price**"
   ]
  },
  {
   "cell_type": "markdown",
   "metadata": {},
   "source": [
    "* market cap = stock prices x shares outstandings\n",
    "* earnings price ratio = Net Income/ Stock Prices\n",
    "* price normalized Account Receivables = Change in A/R / market cap\n"
   ]
  },
  {
   "cell_type": "code",
   "execution_count": 84,
   "metadata": {},
   "outputs": [
    {
     "data": {},
     "metadata": {},
     "output_type": "display_data"
    }
   ],
   "source": [
    "crossSectionalData[, `:=` (`Market Cap` = `Shares Outstanding` * `Stock Prices`, \n",
    "                            `earnings/price` = `Net Income`/`Stock Prices`,\n",
    "                            `price normalized A/R` = `Change in A/R`/(`Shares Outstanding` * `Stock Prices`),\n",
    "                             `1/price`  = 1/`Stock Prices`)]"
   ]
  },
  {
   "cell_type": "code",
   "execution_count": 85,
   "metadata": {
    "collapsed": true
   },
   "outputs": [],
   "source": [
    "crossSectionalData = crossSectionalData[,c('Fiscal Year', 'Ticker', 'Market Cap','earnings/price',\n",
    "                                           'price normalized A/R', '1/price', 'Stock Prices')]"
   ]
  },
  {
   "cell_type": "markdown",
   "metadata": {},
   "source": [
    "**Find Stock Returns**\n",
    "\n",
    "Find the lag price for every stock ticker"
   ]
  },
  {
   "cell_type": "code",
   "execution_count": 86,
   "metadata": {},
   "outputs": [
    {
     "data": {},
     "metadata": {},
     "output_type": "display_data"
    }
   ],
   "source": [
    "crossSectionalData[, `Lag Stock Prices`:= lag(`Stock Prices`), by=Ticker]"
   ]
  },
  {
   "cell_type": "markdown",
   "metadata": {},
   "source": [
    "Remove some records that have infinity price normalized A/R ratios"
   ]
  },
  {
   "cell_type": "code",
   "execution_count": 87,
   "metadata": {},
   "outputs": [
    {
     "data": {},
     "metadata": {},
     "output_type": "display_data"
    }
   ],
   "source": [
    "crossSectionalData[, `Stock Returns` := (`Stock Prices` - `Lag Stock Prices`)/`Lag Stock Prices`]\n",
    "crossSectionalData = crossSectionalData[is.finite(crossSectionalData$`price normalized A/R`), ]\n",
    "crossSectionalData = crossSectionalData[complete.cases(crossSectionalData), ]"
   ]
  },
  {
   "cell_type": "markdown",
   "metadata": {},
   "source": [
    "**Cross Sectional Regression  **\n",
    "\n",
    "Find the cross sectional regression coefficient for every remaining years"
   ]
  },
  {
   "cell_type": "code",
   "execution_count": 88,
   "metadata": {},
   "outputs": [],
   "source": [
    "crossSectionalregression = crossSectionalData  %>% group_by(`Fiscal Year`) %>%\n",
    "                            summarise(`Intercept` = lm(`Stock Returns` ~ `Market Cap` + \n",
    "                                                                       `earnings/price` + \n",
    "                                                                       `price normalized A/R` + \n",
    "                                                                        `1/price`, na.action=\"na.omit\")$coeff[1],\n",
    "                                      \n",
    "                                     `Beta MktCap` = lm(`Stock Returns` ~ `Market Cap` + \n",
    "                                                                       `earnings/price` + \n",
    "                                                                       `price normalized A/R` + \n",
    "                                                                        `1/price`, na.action=\"na.omit\")$coeff[2],\n",
    "                                      \n",
    "                                     `Beta E/P` = lm(`Stock Returns` ~ `Market Cap` + \n",
    "                                                                       `earnings/price` + \n",
    "                                                                       `price normalized A/R` + \n",
    "                                                                        `1/price`, na.action=\"na.omit\")$coeff[3],\n",
    "                                      \n",
    "                                     `Beta A/R` =  lm(`Stock Returns` ~ `Market Cap` + \n",
    "                                                                       `earnings/price` + \n",
    "                                                                       `price normalized A/R` + \n",
    "                                                                        `1/price` , na.action=\"na.omit\")$coeff[4],\n",
    "                                     `Beta 1/Price` =  lm(`Stock Returns` ~ `Market Cap` + \n",
    "                                                                       `earnings/price` + \n",
    "                                                                       `price normalized A/R` + \n",
    "                                                                        `1/price`, na.action=\"na.omit\" )$coeff[5],\n",
    "                                     )"
   ]
  },
  {
   "cell_type": "markdown",
   "metadata": {
    "collapsed": true
   },
   "source": [
    "Find the mean of every coefficient for all of these 4 factors, use them as the factor loadings"
   ]
  },
  {
   "cell_type": "code",
   "execution_count": 96,
   "metadata": {},
   "outputs": [
    {
     "data": {
      "text/html": [
       "<table>\n",
       "<thead><tr><th scope=col>Intercept</th><th scope=col>Beta MktCap</th><th scope=col>Beta E/P</th><th scope=col>Beta A/R</th><th scope=col>Beta 1/Price</th></tr></thead>\n",
       "<tbody>\n",
       "\t<tr><td>0.3244531    </td><td>-5.565982e-06</td><td>0.000603361  </td><td>-0.08465663  </td><td>-0.09723741  </td></tr>\n",
       "</tbody>\n",
       "</table>\n"
      ],
      "text/latex": [
       "\\begin{tabular}{lllll}\n",
       " Intercept & Beta MktCap & Beta E/P & Beta A/R & Beta 1/Price\\\\\n",
       "\\hline\n",
       "\t 0.3244531     & -5.565982e-06 & 0.000603361   & -0.08465663   & -0.09723741  \\\\\n",
       "\\end{tabular}\n"
      ],
      "text/markdown": [
       "\n",
       "Intercept | Beta MktCap | Beta E/P | Beta A/R | Beta 1/Price | \n",
       "|---|\n",
       "| 0.3244531     | -5.565982e-06 | 0.000603361   | -0.08465663   | -0.09723741   | \n",
       "\n",
       "\n"
      ],
      "text/plain": [
       "     Intercept Beta MktCap   Beta E/P    Beta A/R    Beta 1/Price\n",
       "[1,] 0.3244531 -5.565982e-06 0.000603361 -0.08465663 -0.09723741 "
      ]
     },
     "metadata": {},
     "output_type": "display_data"
    }
   ],
   "source": [
    "t(colMeans(crossSectionalregression[, -1]))"
   ]
  },
  {
   "cell_type": "markdown",
   "metadata": {},
   "source": [
    "From the cross sectional coefficients above, we can conclude that the mentioned 4 factors are not great predictors for stock returns - evident from the large residuals (intercept). The most significant factor is the **1/price** ratio, which is expected. The **price normalized Accurals**, which is the **price normalized Account Receivables**, is also a very strong predictor of the stock returns. Overall, the returns of stocks are very difficult to predict, and the practice in this project proves that point"
   ]
  }
 ],
 "metadata": {
  "kernelspec": {
   "display_name": "R",
   "language": "R",
   "name": "ir"
  },
  "language_info": {
   "codemirror_mode": "r",
   "file_extension": ".r",
   "mimetype": "text/x-r-source",
   "name": "R",
   "pygments_lexer": "r",
   "version": "3.4.1"
  },
  "varInspector": {
   "cols": {
    "lenName": 16,
    "lenType": 16,
    "lenVar": 40
   },
   "kernels_config": {
    "python": {
     "delete_cmd_postfix": "",
     "delete_cmd_prefix": "del ",
     "library": "var_list.py",
     "varRefreshCmd": "print(var_dic_list())"
    },
    "r": {
     "delete_cmd_postfix": ") ",
     "delete_cmd_prefix": "rm(",
     "library": "var_list.r",
     "varRefreshCmd": "cat(var_dic_list()) "
    }
   },
   "types_to_exclude": [
    "module",
    "function",
    "builtin_function_or_method",
    "instance",
    "_Feature"
   ],
   "window_display": false
  }
 },
 "nbformat": 4,
 "nbformat_minor": 2
}
