{
 "cells": [
  {
   "cell_type": "markdown",
   "metadata": {},
   "source": [
    "# Project 4 - Companies Fundamentals Analysis"
   ]
  },
  {
   "cell_type": "markdown",
   "metadata": {},
   "source": [
    "Bowen Chen\n",
    "\n",
    "Feburary 9, 2018"
   ]
  },
  {
   "cell_type": "markdown",
   "metadata": {
    "collapsed": true
   },
   "source": [
    "## Executive Summary"
   ]
  },
  {
   "cell_type": "markdown",
   "metadata": {},
   "source": [
    "In this project, the companies fundamental data is studied the evaluated. The annual frequency of fundamental data of all companies from 1950 to 2017 was downloaded from WRDS's CapitalIQ database. There are a large amount of data unavailiable - some of the data has been transformed to 0, while others are left untouched. There are two analysis being completed on this dataset,\n",
    "\n",
    "**1. The top industries based on the aggregated metrics**\n",
    "\n",
    "Some summary statistics of this study\n",
    "\n",
    "| Category | Industry Name | Value  |\n",
    "|--------------|------------|-------------|\n",
    "| Largest Cash Flow | Banking (Money Center) | \\$ 1636.46  |\n",
    "| Largest Market Size | Banking (Money Center) | \\$ 12404.47  |\n",
    "| Highest Leverage | Agriculture | 96.39 (D/E) |\n",
    "| Highest Return on Assets | Food | 0.071(ROA) |\n",
    "\n",
    "**2. The different behaviors of companies with different status**\n",
    "\n",
    "Some summary statistics of this study\n",
    "\n",
    "| Company Status | Market Size | Net Income |\n",
    "|----------------|-------------|------------|\n",
    "| Active              | \\$ 1864.5966   | \\$ 154.51666  |\n",
    "| Incative              | \\$ 183.6756    | \\$ 15.54749   |\n"
   ]
  },
  {
   "cell_type": "markdown",
   "metadata": {},
   "source": [
    "## Key Questions to Answer"
   ]
  },
  {
   "cell_type": "markdown",
   "metadata": {},
   "source": [
    "* What are the top industries that has the largest cash flow, largest market size, highest leverage and highest return on assets?\n",
    "\n",
    "\n",
    "* Is there a different behavior of companies that are active/inactive?"
   ]
  },
  {
   "cell_type": "markdown",
   "metadata": {},
   "source": [
    "## Computation"
   ]
  },
  {
   "cell_type": "code",
   "execution_count": 34,
   "metadata": {},
   "outputs": [],
   "source": [
    "# R Setup\n",
    "options(repr.plot.width= 6, repr.plot.height=4, warn = -1)\n",
    "\n",
    "library(data.table)\n",
    "library(lubridate)\n",
    "library(dplyr)\n",
    "library(magrittr)\n",
    "library(ggplot2)"
   ]
  },
  {
   "cell_type": "markdown",
   "metadata": {},
   "source": [
    "**Import Data**\n",
    "\n",
    "The data consists of daily returns for all stocks from 1926-1-1 to 2016-12-31, since the size of the file is huge, the use of data.table packages are very important here. The data contains the following fields,\n",
    "\n",
    "\n",
    "* *GVKey* - The unique company identifier\n",
    "* *date* - The date, in daily frequency\n",
    "* *fyear* - Fiscal year\n",
    "* *tic* - The corresponding ticker that the stock used in Exchange\n",
    "* *conm* - Company name\n",
    "* *fincf* - Cash flow for financing activity\n",
    "* *ivncf* - Cash flow for investing activity\n",
    "* *oancf* - Cash flow for opreating activity\n",
    "* *rveqt* - Total Book Value of Equity\n",
    "* *mkvalt* - Total Market Value of Equity\n",
    "* *costat* - Company status, Inactive/Active\n",
    "* *spcindcd* - S&P industry code"
   ]
  },
  {
   "cell_type": "code",
   "execution_count": 35,
   "metadata": {
    "collapsed": true
   },
   "outputs": [],
   "source": [
    "fundamentals  = fread('data/fundamentals.csv')"
   ]
  },
  {
   "cell_type": "markdown",
   "metadata": {},
   "source": [
    "check the first couple of rows of the fundamentals data"
   ]
  },
  {
   "cell_type": "code",
   "execution_count": 98,
   "metadata": {},
   "outputs": [],
   "source": [
    "fundamentals[1:5,]"
   ]
  },
  {
   "cell_type": "markdown",
   "metadata": {},
   "source": [
    "| gvkey | datadate | fyear | tic  | conm                  | at    | dt | fincf | ivncf | ni     | oancf | rveqt | costat | mkvalt | spcindcd |\n",
    "|-------|----------|-------|------|-----------------------|-------|----|-------|-------|--------|-------|-------|--------|--------|----------|\n",
    "| 1000  | 19611231 | 1961  | AE.2 | A & E PLASTIK PAK INC | NA    | NA | NA    | NA    | NA     | NA    | NA    | I      | NA     | 325      |\n",
    "| 1000  | 19621231 | 1962  | AE.2 | A & E PLASTIK PAK INC | NA    | NA | NA    | NA    | NA     | NA    | NA    | I      | NA     | 325      |\n",
    "| 1000  | 19631231 | 1963  | AE.2 | A & E PLASTIK PAK INC | NA    | NA | NA    | NA    | 0.003  | NA    | NA    | I      | NA     | 325      |\n",
    "| 1000  | 19641231 | 1964  | AE.2 | A & E PLASTIK PAK INC | 1.416 | NA | NA    | NA    | 0.052  | NA    | NA    | I      | NA     | 325      |\n",
    "| 1000  | 19651231 | 1965  | AE.2 | A & E PLASTIK PAK INC | 2.310 | NA | NA    | NA    | -0.197 | NA    | NA    | I      | NA     | 325      |"
   ]
  },
  {
   "cell_type": "markdown",
   "metadata": {},
   "source": [
    "There are large number of data unavaliable, which is expected for a company that is inactive"
   ]
  },
  {
   "cell_type": "markdown",
   "metadata": {},
   "source": [
    "**Rename the columns**\n",
    "\n",
    "Try to make the dataset look better"
   ]
  },
  {
   "cell_type": "code",
   "execution_count": 37,
   "metadata": {
    "collapsed": true
   },
   "outputs": [],
   "source": [
    "fundamentals = fundamentals %>% setNames(c(\"GVKey\", \"date\", \"Fiscal Year\", \"Ticker\", \n",
    "                                              \"Company Name\",\"Total Assets\", \"Total Debt\", \"Fin_CashFlow\", \n",
    "                                              \"Inv_CashFlow\", \"Net Income\", \"Op_CashFlow\", \"Total Equity\",\n",
    "                                              \"Company Status\", \"Mkt_Value_Equity\", \"SP_Industry\"))"
   ]
  },
  {
   "cell_type": "markdown",
   "metadata": {},
   "source": [
    "**Covert date**\n",
    "\n",
    "The date column is character format which need to converted into date"
   ]
  },
  {
   "cell_type": "code",
   "execution_count": 38,
   "metadata": {},
   "outputs": [
    {
     "data": {},
     "metadata": {},
     "output_type": "display_data"
    }
   ],
   "source": [
    "fundamentals[,  `:=` (date = as.Date(as.character(date), \n",
    "                                   format = '%Y/%m/%d', \n",
    "                                   origin = \"1910-10-01\"))]"
   ]
  },
  {
   "cell_type": "markdown",
   "metadata": {},
   "source": [
    "Combine companies that have multiple rows on the same year. "
   ]
  },
  {
   "cell_type": "code",
   "execution_count": 39,
   "metadata": {
    "collapsed": true
   },
   "outputs": [],
   "source": [
    "fundamentals = fundamentals %>% group_by( GVKey,\n",
    "                         `Fiscal Year`) %>%\n",
    "                 summarise( Ticker = last(Ticker),\n",
    "                            `Company Name` = last(`Company Name`),\n",
    "                            `Total Assets` = sum(`Total Assets`, na.rm = T), \n",
    "                            `Total Debt` = sum(`Total Debt`, na.rm = T), \n",
    "                            `Fin_CashFlow` = sum(`Fin_CashFlow`, na.rm = T),\n",
    "                            `Inv_CashFlow` = sum(`Inv_CashFlow`, na.rm = T),\n",
    "                            `Op_CashFlow` = sum(`Op_CashFlow`, na.rm =T),   \n",
    "                            `Net Income` = sum(`Net Income`, na.rm = T),\n",
    "                            `Total Equity` = sum(`Total Equity`, na.rm =T),\n",
    "                            `Company Status` = last(`Company Status`),\n",
    "                             Mkt_Value_Equity = sum(Mkt_Value_Equity, na.rm = T),\n",
    "                             SP_Industry = last(SP_Industry)                           \n",
    "                          )%>% as.data.table()"
   ]
  },
  {
   "cell_type": "markdown",
   "metadata": {},
   "source": [
    "** Find the leverage ratios **\n",
    "\n",
    "Find ROA, ROE and D/E ratio. Since there are 0s present, we have to make conditions when finding these ratios"
   ]
  },
  {
   "cell_type": "code",
   "execution_count": 40,
   "metadata": {
    "scrolled": true
   },
   "outputs": [
    {
     "data": {},
     "metadata": {},
     "output_type": "display_data"
    },
    {
     "data": {},
     "metadata": {},
     "output_type": "display_data"
    },
    {
     "data": {},
     "metadata": {},
     "output_type": "display_data"
    }
   ],
   "source": [
    "fundamentals[, DE :=  ifelse(`Total Equity`== 0, NA, `Total Debt`/`Total Equity`)]\n",
    "fundamentals[, ROE :=  ifelse(`Total Equity`== 0, NA, `Net Income`/`Total Equity`)]\n",
    "fundamentals[, ROA :=  ifelse(`Total Assets`== 0, NA, `Net Income`/`Total Assets`)]"
   ]
  },
  {
   "cell_type": "markdown",
   "metadata": {},
   "source": [
    "**Summary of the Dataset**"
   ]
  },
  {
   "cell_type": "markdown",
   "metadata": {},
   "source": [
    "Build a summary table on industry, we could find the average of these several metrics of different industry over the years"
   ]
  },
  {
   "cell_type": "code",
   "execution_count": 41,
   "metadata": {},
   "outputs": [
    {
     "data": {},
     "metadata": {},
     "output_type": "display_data"
    }
   ],
   "source": [
    "fundamentals_industry = fundamentals %>% group_by( SP_Industry) %>%\n",
    "                 summarise( `Total Cash` =  mean(`Fin_CashFlow`+`Inv_CashFlow` + `Op_CashFlow`),\n",
    "                             `Market Size` = mean(Mkt_Value_Equity, na.rm = T),\n",
    "                            DE = mean(DE, na.rm =  T),\n",
    "                            ROE = mean(ROE, na.rm = T),\n",
    "                            ROA = mean(ROA, na.rm = T)\n",
    "                          )%>% as.data.table()\n",
    "fundamentals_industry = fundamentals_industry[complete.cases(fundamentals_industry), ]\n",
    "fundamentals_industry[, SP_Industry := as.character(SP_Industry)]"
   ]
  },
  {
   "cell_type": "markdown",
   "metadata": {},
   "source": [
    "Since there are a large number of industries that does not have total equity data avaliable, many companies' D/E or ROA could not be calculated, here we will show a summary table that has all sets of data are avaliable. With the summary table, we could find out several really interesting facts"
   ]
  },
  {
   "cell_type": "markdown",
   "metadata": {},
   "source": [
    "**The industry that has the most cash flows**"
   ]
  },
  {
   "cell_type": "code",
   "execution_count": 99,
   "metadata": {},
   "outputs": [],
   "source": [
    "fundamentals_industry[order(-`Total Cash`), ][1:5,]"
   ]
  },
  {
   "cell_type": "markdown",
   "metadata": {},
   "source": [
    "| SP_Industry | Total Cash | \n",
    "|-------------|------------|\n",
    "| 810         | 1636.45981 |\n",
    "| 823         | 147.34548  |\n",
    "| 822         | 135.20109  |\n",
    "| 845         | 111.28382  |\n",
    "| 830         | 62.46002   |"
   ]
  },
  {
   "cell_type": "code",
   "execution_count": 61,
   "metadata": {},
   "outputs": [
    {
     "data": {},
     "metadata": {},
     "output_type": "display_data"
    },
    {
     "data": {
      "image/png": "[encoded data removed]",
      "text/plain": [
       "plot without title"
      ]
     },
     "metadata": {},
     "output_type": "display_data"
    }
   ],
   "source": [
    "ggplot(data = fundamentals_industry[order(-`Total Cash`), ][1:10,], \n",
    "       aes(x = reorder(SP_Industry, -`Total Cash`), y = `Total Cash`)) +\n",
    "  geom_bar(stat=\"identity\", fill=\"steelblue\")+\n",
    "  labs(title = \"Top 10 Indutries with the Largest Cash Flows\",\n",
    "  x = \"Industry Code\", \n",
    "  y = \"Total Cash Flows in Milion $\",\n",
    "  parse = TRUE)+\n",
    "  theme_minimal()"
   ]
  },
  {
   "cell_type": "markdown",
   "metadata": {},
   "source": [
    "Industry 810 has the most average cash flow over the years, yep, it is the money center of the banking industry - **Banks (Money Center)**"
   ]
  },
  {
   "cell_type": "markdown",
   "metadata": {},
   "source": [
    "** The industry that is largest in size **"
   ]
  },
  {
   "cell_type": "code",
   "execution_count": 100,
   "metadata": {},
   "outputs": [],
   "source": [
    "fundamentals_industry[order(-`Market Size`), ][1:5,]"
   ]
  },
  {
   "cell_type": "markdown",
   "metadata": {},
   "source": [
    "| SP_Industry |   Market Size |\n",
    "|-------------|-------------|\n",
    "| 810         | 12404.478   |\n",
    "| 830         | 11283.062   |\n",
    "| 280         | 4659.968    |\n",
    "| 287         | 3095.290    |\n",
    "| 823         | 2780.319    |"
   ]
  },
  {
   "cell_type": "code",
   "execution_count": 60,
   "metadata": {},
   "outputs": [
    {
     "data": {},
     "metadata": {},
     "output_type": "display_data"
    },
    {
     "data": {
      "image/png": "[encoded data removed]",
      "text/plain": [
       "plot without title"
      ]
     },
     "metadata": {},
     "output_type": "display_data"
    }
   ],
   "source": [
    "ggplot(data = fundamentals_industry[order(-`Market Size`), ][1:10,], \n",
    "       aes(x = reorder(SP_Industry, -`Market Size`), y = `Market Size`)) +\n",
    "  geom_bar(stat=\"identity\", fill=\"skyblue\")+\n",
    "  labs(title = \"Largest 10 Industries\",\n",
    "  x = \"Industry Code\", \n",
    "  y = \"Market Value in Bilion $\",\n",
    "  parse = TRUE)+\n",
    "  theme_minimal()"
   ]
  },
  {
   "cell_type": "markdown",
   "metadata": {},
   "source": [
    "Except for the **money center** that is the largest in size, industry 830 (**Insurance (Multi-Line)**) and industry 280 (health care) occupy large amount of total market values"
   ]
  },
  {
   "cell_type": "markdown",
   "metadata": {},
   "source": [
    "**The industry that is most leveraged**"
   ]
  },
  {
   "cell_type": "code",
   "execution_count": 101,
   "metadata": {},
   "outputs": [],
   "source": [
    "fundamentals_industry[order(-`DE`), ][1:5,]"
   ]
  },
  {
   "cell_type": "markdown",
   "metadata": {},
   "source": [
    "| SP_Industry |  DE        | \n",
    "|-------------|-----------|\n",
    "| 112         |  96.392010 | \n",
    "| 305         | 78.894727 | \n",
    "| 462         | 9.318660  | \n",
    "| 840         | 3.966211  | \n",
    "| 845         | 3.211773  | "
   ]
  },
  {
   "cell_type": "code",
   "execution_count": 59,
   "metadata": {},
   "outputs": [
    {
     "data": {},
     "metadata": {},
     "output_type": "display_data"
    },
    {
     "data": {
      "image/png": "[encoded data removed]",
      "text/plain": [
       "plot without title"
      ]
     },
     "metadata": {},
     "output_type": "display_data"
    }
   ],
   "source": [
    "ggplot(data = fundamentals_industry[order(-DE), ][1:10,], \n",
    "       aes(x = reorder(SP_Industry, -DE), y = DE)) +\n",
    "  geom_bar(stat=\"identity\", fill=\"darkgreen\")+\n",
    "  labs(title = \"Top 10 Indutries With the Largest Leverage\",\n",
    "  x = \"Industry Code\", \n",
    "  y = \"Debt to Equity Ratio (D/E)\",\n",
    "  parse = TRUE)+\n",
    "  theme_minimal()"
   ]
  },
  {
   "cell_type": "markdown",
   "metadata": {},
   "source": [
    "Industry 112 (**Agriculture**) and industry 305 (**homebuilding**) has the most leverages. One could guess that these leverages are possibly due to the large project financing required in these industries. The rest of the indutries has relatively normal leverages ratios"
   ]
  },
  {
   "cell_type": "markdown",
   "metadata": {},
   "source": [
    "**The industry that has the largest return on assets**"
   ]
  },
  {
   "cell_type": "code",
   "execution_count": 102,
   "metadata": {},
   "outputs": [],
   "source": [
    "fundamentals_industry[order(-ROA), ][1:5,]"
   ]
  },
  {
   "cell_type": "markdown",
   "metadata": {},
   "source": [
    "| SP_Industry | ROA         |\n",
    "|-------------|-------------|\n",
    "| 250         | 0.071491857 |\n",
    "| 355         | 0.021308236 |\n",
    "| 830         | 0.015193417 |\n",
    "| 825         | 0.007969484 |\n",
    "| 810         | 0.003403771 |"
   ]
  },
  {
   "cell_type": "code",
   "execution_count": 67,
   "metadata": {},
   "outputs": [
    {
     "data": {},
     "metadata": {},
     "output_type": "display_data"
    },
    {
     "data": {
      "image/png": "[encoded data removed]",
      "text/plain": [
       "plot without title"
      ]
     },
     "metadata": {},
     "output_type": "display_data"
    }
   ],
   "source": [
    "ggplot(data = fundamentals_industry[order(-ROA), ][1:10,], \n",
    "       aes(x = reorder(SP_Industry, -ROA), y = ROA)) +\n",
    "  geom_bar(stat=\"identity\", fill=\"pink\")+\n",
    "  labs(title = \"Top 10 Indutries With the Largest Return on Assets\",\n",
    "  x = \"Industry Code\", \n",
    "  y = \"Return on Assets\",\n",
    "  parse = TRUE)+\n",
    "  theme_minimal()"
   ]
  },
  {
   "cell_type": "markdown",
   "metadata": {},
   "source": [
    "While a large amount of data is not avaliable, many industries has recorded a loss on total assets. Most of the indutries that recorded loss has a large amount of inactive companies - therefore are the indutries that has been faded from the modern socitey"
   ]
  },
  {
   "cell_type": "markdown",
   "metadata": {},
   "source": [
    "**Active and Inactive Companies**\n",
    "\n",
    "Could there be a different behavior if the company is inactive? The table below already showed something really interesting"
   ]
  },
  {
   "cell_type": "code",
   "execution_count": 103,
   "metadata": {},
   "outputs": [],
   "source": [
    "company_status = fundamentals %>% group_by(`Company Status`) %>%\n",
    "                 summarise(`Market Size` = mean(Mkt_Value_Equity, na.rm = T),\n",
    "                           `Net Income` =  mean(`Net Income`, na.rm = T)) %>% as.data.table()"
   ]
  },
  {
   "cell_type": "markdown",
   "metadata": {},
   "source": [
    "| Company Status | Market Size | Net Income |\n",
    "|----------------|-------------|------------|\n",
    "| Active              | \\$ 1864.5966   | \\$ 154.51666  |\n",
    "| Incative              | \\$ 183.6756    | \\$ 15.54749   |\n"
   ]
  },
  {
   "cell_type": "code",
   "execution_count": 93,
   "metadata": {},
   "outputs": [],
   "source": [
    "company_status = melt(company_status,id.vars=\"Company Status\")"
   ]
  },
  {
   "cell_type": "code",
   "execution_count": 97,
   "metadata": {},
   "outputs": [
    {
     "data": {},
     "metadata": {},
     "output_type": "display_data"
    },
    {
     "data": {
      "image/png": "[encoded data removed]",
      "text/plain": [
       "plot without title"
      ]
     },
     "metadata": {},
     "output_type": "display_data"
    }
   ],
   "source": [
    "ggplot(data = company_status, \n",
    "       aes(x = `Company Status`,  y= value, fill= factor(variable))) +\n",
    "  geom_bar(stat=\"identity\", position=\"dodge\")+\n",
    "  labs(title = \"Net Income/Market Size of Active/Inactive Companies\",\n",
    "  x = \"Company Statuss\", \n",
    "  y = \"Net Income/ Market Size $\",\n",
    "  parse = TRUE)+\n",
    "  theme_minimal()"
   ]
  },
  {
   "cell_type": "markdown",
   "metadata": {},
   "source": [
    "Active companies are generally larger in size and have more net income"
   ]
  }
 ],
 "metadata": {
  "kernelspec": {
   "display_name": "R",
   "language": "R",
   "name": "ir"
  },
  "language_info": {
   "codemirror_mode": "r",
   "file_extension": ".r",
   "mimetype": "text/x-r-source",
   "name": "R",
   "pygments_lexer": "r",
   "version": "3.4.1"
  }
 },
 "nbformat": 4,
 "nbformat_minor": 2
}
