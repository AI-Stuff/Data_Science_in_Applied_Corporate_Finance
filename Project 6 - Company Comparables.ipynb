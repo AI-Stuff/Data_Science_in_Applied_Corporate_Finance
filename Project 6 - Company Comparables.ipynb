{
 "cells": [
  {
   "cell_type": "markdown",
   "metadata": {
    "colab_type": "text",
    "id": "Jci77BGzXTUH"
   },
   "source": [
    "# Project 6 - Company Comparables"
   ]
  },
  {
   "cell_type": "markdown",
   "metadata": {
    "colab_type": "text",
    "id": "AZcyLFe0XTUH"
   },
   "source": [
    "Bowen Chen\n",
    "\n",
    "Feburary 19, 2018"
   ]
  },
  {
   "cell_type": "markdown",
   "metadata": {
    "colab_type": "text",
    "id": "fjvtg9FOXTUI"
   },
   "source": [
    "## Executive Summary"
   ]
  },
  {
   "cell_type": "markdown",
   "metadata": {
    "colab_type": "text",
    "id": "8IlZew-OXTUJ"
   },
   "source": [
    "In this project, the relationship between the stock's market cap, earnings growth and E/P ratio is investigated. When the stock sample size are relatively smaller, most of the large cap company tend to be profitable. However, when there are more stocks added to the total universe, the relationship is way more obscured."
   ]
  },
  {
   "cell_type": "markdown",
   "metadata": {
    "colab_type": "text",
    "id": "vS4GFiZRXTUK"
   },
   "source": [
    "## Key Questions to Answer"
   ]
  },
  {
   "cell_type": "markdown",
   "metadata": {},
   "source": [
    "* Is there a relationship between companies' E/P ratio and their earnings growth?\n",
    "\n",
    "\n",
    "* Is there a relationship between companies profitabilty and their market cap?"
   ]
  },
  {
   "cell_type": "markdown",
   "metadata": {
    "colab_type": "text",
    "id": "8PJ_ufZIXTUK"
   },
   "source": [
    "## Computation"
   ]
  },
  {
   "cell_type": "markdown",
   "metadata": {
    "colab_type": "text",
    "id": "qtcqTbTYXTUL"
   },
   "source": [
    "R Setup"
   ]
  },
  {
   "cell_type": "code",
   "execution_count": 240,
   "metadata": {
    "colab": {
     "autoexec": {
      "startup": false,
      "wait_interval": 0
     }
    },
    "colab_type": "code",
    "id": "Dgl2peqrXTUL"
   },
   "outputs": [],
   "source": [
    "# R Setup\n",
    "options(repr.plot.width= 8, repr.plot.height=5, warn = -1)\n",
    "\n",
    "library(plyr)\n",
    "library(data.table)\n",
    "library(lubridate)\n",
    "library(dplyr)\n",
    "library(magrittr)\n",
    "library(ggplot2)"
   ]
  },
  {
   "cell_type": "markdown",
   "metadata": {
    "colab_type": "text",
    "id": "ABD7OKb9XTUO"
   },
   "source": [
    "Read Company Fundamentals Data From WRDS"
   ]
  },
  {
   "cell_type": "code",
   "execution_count": 241,
   "metadata": {
    "colab": {
     "autoexec": {
      "startup": false,
      "wait_interval": 0
     }
    },
    "colab_type": "code",
    "collapsed": true,
    "id": "DrMUshOFXTUP"
   },
   "outputs": [],
   "source": [
    "fundamentals  = fread('data/AnnualFundamentals.csv')"
   ]
  },
  {
   "cell_type": "markdown",
   "metadata": {
    "colab_type": "text",
    "id": "oKZ-zqtFXTUR"
   },
   "source": [
    "Remove NA rows to make the dataset clean"
   ]
  },
  {
   "cell_type": "code",
   "execution_count": 242,
   "metadata": {
    "colab": {
     "autoexec": {
      "startup": false,
      "wait_interval": 0
     }
    },
    "colab_type": "code",
    "collapsed": true,
    "id": "dmxepeKtXTUS"
   },
   "outputs": [],
   "source": [
    "fundamentals = fundamentals[complete.cases(fundamentals), ] %>% setNames(c('GVKEY', 'PERMNO',\n",
    "                                                                         'data date', 'Fiscal Year', \n",
    "                                                                         'Ticker', 'Shares Outstanding', 'EPS', \n",
    "                                                                         'Net Income', 'Price'))"
   ]
  },
  {
   "cell_type": "markdown",
   "metadata": {
    "colab_type": "text",
    "id": "xMlbM2evXTUU"
   },
   "source": [
    "Lag the net income column 1 period and find its percentage changes,  find the percentage change of earnings "
   ]
  },
  {
   "cell_type": "markdown",
   "metadata": {
    "colab_type": "text",
    "id": "e8NJicJ9XTU4"
   },
   "source": [
    "Find the 3 year average change in earning"
   ]
  },
  {
   "cell_type": "code",
   "execution_count": 243,
   "metadata": {
    "colab": {
     "autoexec": {
      "startup": false,
      "wait_interval": 0
     }
    },
    "colab_type": "code",
    "collapsed": true,
    "id": "ryOBGd5jXTU6"
   },
   "outputs": [],
   "source": [
    "fundamentals_3yrAvg = fundamentals %>%  group_by(Ticker) %>%\n",
    "                      summarise(PERMNO = last(PERMNO),\n",
    "                                `% change Earnings` = mean((Price -  shift(Price, 1))/ abs(Price), na.rm =T),\n",
    "                                 Price = last(Price),\n",
    "                                `Shares Outstanding` = last(`Shares Outstanding`),\n",
    "                                 EPS = last(EPS),\n",
    "                                 count = unique(length(`Fiscal Year`)))%>%as.data.table()"
   ]
  },
  {
   "cell_type": "markdown",
   "metadata": {},
   "source": [
    "Choose the companies that only have 4 years in the dataset"
   ]
  },
  {
   "cell_type": "code",
   "execution_count": 247,
   "metadata": {
    "collapsed": true
   },
   "outputs": [],
   "source": [
    "fundamentals_3yrAvg = fundamentals_3yrAvg[fundamentals_3yrAvg$count == 4]"
   ]
  },
  {
   "cell_type": "markdown",
   "metadata": {},
   "source": [
    "Find the P/E ratio of all companies"
   ]
  },
  {
   "cell_type": "code",
   "execution_count": 248,
   "metadata": {},
   "outputs": [
    {
     "data": {},
     "metadata": {},
     "output_type": "display_data"
    }
   ],
   "source": [
    "fundamentals_3yrAvg[, `E/P` := EPS/Price]"
   ]
  },
  {
   "cell_type": "markdown",
   "metadata": {
    "colab_type": "text",
    "id": "unMxsPDeXTUl"
   },
   "source": [
    "Truncate the 10% and 90% quantiles in the % change in Earnings"
   ]
  },
  {
   "cell_type": "code",
   "execution_count": 249,
   "metadata": {
    "colab": {
     "autoexec": {
      "startup": false,
      "wait_interval": 0
     }
    },
    "colab_type": "code",
    "id": "jGA03HizXTUm"
   },
   "outputs": [],
   "source": [
    "pct_10_pct = quantile(fundamentals_3yrAvg[, `% change Earnings`], 0.1)\n",
    "pct_90_pct = quantile(fundamentals_3yrAvg[, `% change Earnings`], 0.9)\n",
    "fundamentals_3yrAvg = fundamentals_3yrAvg[(`% change Earnings` <=  pct_90_pct) &\n",
    "                                          (`% change Earnings` >=  pct_10_pct)]"
   ]
  },
  {
   "cell_type": "markdown",
   "metadata": {
    "colab_type": "text",
    "id": "Vl9fwWtTXTUn"
   },
   "source": [
    "Truncate the 10% and 90% quantiles in E/P ratio"
   ]
  },
  {
   "cell_type": "code",
   "execution_count": 250,
   "metadata": {
    "colab": {
     "autoexec": {
      "startup": false,
      "wait_interval": 0
     }
    },
    "colab_type": "code",
    "collapsed": true,
    "id": "-6G8LvniXTUo"
   },
   "outputs": [],
   "source": [
    "pct_10_pe = quantile(fundamentals_3yrAvg[, `E/P`], 0.1)\n",
    "pct_90_pe = quantile(fundamentals_3yrAvg[, `E/P`], 0.9)\n",
    "fundamentals_3yrAvg = fundamentals_3yrAvg[(`E/P` <=  pct_90_pe) &\n",
    "                                          (`E/P` >=  pct_10_pe)]"
   ]
  },
  {
   "cell_type": "markdown",
   "metadata": {
    "colab_type": "text",
    "id": "V2ZDjbUIXTUu"
   },
   "source": [
    "Calculate the remaining stocks market cap"
   ]
  },
  {
   "cell_type": "code",
   "execution_count": 251,
   "metadata": {
    "colab": {
     "autoexec": {
      "startup": false,
      "wait_interval": 0
     },
     "output_extras": [
      {}
     ]
    },
    "colab_type": "code",
    "id": "eR2k31jOXTUu",
    "outputId": "45d40ed8-2af4-4c03-fed7-bbbd61b00db7"
   },
   "outputs": [
    {
     "data": {},
     "metadata": {},
     "output_type": "display_data"
    }
   ],
   "source": [
    "fundamentals_3yrAvg[, `Market Cap` := `Shares Outstanding` * Price]"
   ]
  },
  {
   "cell_type": "markdown",
   "metadata": {},
   "source": [
    "To make the plot look better, only the stocks with market cap larger than 1000 are selected"
   ]
  },
  {
   "cell_type": "code",
   "execution_count": 252,
   "metadata": {
    "collapsed": true
   },
   "outputs": [],
   "source": [
    "fundamentals_3yrAvg = fundamentals_3yrAvg[fundamentals_3yrAvg[, `Market Cap` > 1000]]"
   ]
  },
  {
   "cell_type": "markdown",
   "metadata": {},
   "source": [
    "Plot the companies' earnings growth against P/E ratio"
   ]
  },
  {
   "cell_type": "code",
   "execution_count": 253,
   "metadata": {},
   "outputs": [
    {
     "data": {},
     "metadata": {},
     "output_type": "display_data"
    },
    {
     "data": {
      "image/png": "[encoded data removed]",
      "text/plain": [
       "plot without title"
      ]
     },
     "metadata": {},
     "output_type": "display_data"
    }
   ],
   "source": [
    "ggplot(data=fundamentals_3yrAvg, aes(x = `% change Earnings`, y = `E/P`, \n",
    "                                     size = `Market Cap`, show.legend=F)) +\n",
    "  theme_bw()+\n",
    "  geom_point(color=\"#56B4E9\")+\n",
    "  labs(title = \"Stock's % Change in Earnings vs E/P\",\n",
    "  x = \"% Change of Earnings\", \n",
    "  y = \"E/P Ratio\",\n",
    "  parse = TRUE)"
   ]
  },
  {
   "cell_type": "markdown",
   "metadata": {
    "collapsed": true
   },
   "source": [
    "The stocks with higher market cap tends to have a higher % change in earnings over 3 years and higher P/E ratio. Most of the chosen companies (whose market cap larger than 1000) are profitable and recording positive growth. It is not a fair comparison for these companies though, since each industry tend to have a different market cap"
   ]
  }
 ],
 "metadata": {
  "colab": {
   "default_view": {},
   "name": "Project 6 - Company Comparables.ipynb",
   "provenance": [],
   "version": "0.3.2",
   "views": {}
  },
  "kernelspec": {
   "display_name": "R",
   "language": "R",
   "name": "ir"
  },
  "language_info": {
   "codemirror_mode": "r",
   "file_extension": ".r",
   "mimetype": "text/x-r-source",
   "name": "R",
   "pygments_lexer": "r",
   "version": "3.4.1"
  }
 },
 "nbformat": 4,
 "nbformat_minor": 1
}
