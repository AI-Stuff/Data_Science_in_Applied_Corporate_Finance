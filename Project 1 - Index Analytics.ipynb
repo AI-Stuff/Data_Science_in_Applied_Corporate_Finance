{
 "cells": [
  {
   "cell_type": "markdown",
   "metadata": {},
   "source": [
    "# Project 1 - Index Analytics"
   ]
  },
  {
   "cell_type": "markdown",
   "metadata": {},
   "source": [
    "Bowen Chen\n",
    "\n",
    "January 18, 2018"
   ]
  },
  {
   "cell_type": "markdown",
   "metadata": {},
   "source": [
    "## Executive Summary"
   ]
  },
  {
   "cell_type": "markdown",
   "metadata": {},
   "source": [
    "In this index analytics project, the S&P 500 index's performance is evaluated based on its geometric and arithmetic averages for different frequencies - daily, monthly, annual and 5-year periods. This project also evaluated the performances of 4 different self financing portfolios in the forms of excess returns for the same 4 frequencies as S&P 500 index performances. From the analysis, we can draw the conclusion that arithmetic average returns will always be higher than the geometric average returns, with the 5-year period arithmetic returns the highest among all frequencies (**~18.78%** for S&P500 performances, **~11.08%** for self financing portfolios). However, **the 5-year return also largely depends on the assumptions imposed in the calculations**. The overlapping of the long-time series definitly affects the performance outlook of the investments, providing a great trick for funds to manipulate their performance metrics. "
   ]
  },
  {
   "cell_type": "markdown",
   "metadata": {},
   "source": [
    "## Key Questions to Answer"
   ]
  },
  {
   "cell_type": "markdown",
   "metadata": {},
   "source": [
    "* For the (CRSP) S&P500 with dividends, what was the average arithmetic and geometric historical mean rate of return for daily returns, for monthly returns, for annual returns, and for 5-year returns from 1/1/1973 through 1/1/2015? \n",
    "\n",
    "\n",
    "* How would each of the four self-financed strategies with the prevailing short rate, the 30-day Treasury rate, the 1-year Treasury rate, and the 5-year Treasury rates, respectively have performed in terms of excess return?\n",
    "\n",
    "\n",
    "* Does overlapping the longer-term series lead to different inference?"
   ]
  },
  {
   "cell_type": "markdown",
   "metadata": {},
   "source": [
    "## Computations"
   ]
  },
  {
   "cell_type": "markdown",
   "metadata": {},
   "source": [
    "#### Import S&P 500, Risk - free Data from WRDS"
   ]
  },
  {
   "cell_type": "code",
   "execution_count": 779,
   "metadata": {
    "collapsed": true
   },
   "outputs": [],
   "source": [
    "library('data.table')\n",
    "library('dplyr')\n",
    "library('lubridate')\n",
    "library('magrittr')\n",
    "library('zoo')"
   ]
  },
  {
   "cell_type": "code",
   "execution_count": 780,
   "metadata": {},
   "outputs": [
    {
     "data": {},
     "metadata": {},
     "output_type": "display_data"
    }
   ],
   "source": [
    "# Import S&P500 data and convert the date column to date object\n",
    "sp500_return = fread('data/SP500Return.csv')\n",
    "sp500_return[,caldt := as.Date(caldt, format = '%m/%d/%Y')]"
   ]
  },
  {
   "cell_type": "markdown",
   "metadata": {},
   "source": [
    "## Geometric Means and Arithmetic Means"
   ]
  },
  {
   "cell_type": "markdown",
   "metadata": {},
   "source": [
    "Next, we proceed to answering the first question,\n",
    "\n",
    "*For the (CRSP) S&P500 with dividends, what was the average arithmetic and geometric historical mean rate of return for daily returns, for monthly returns, for annual returns, and for 5-year returns from 1/1/1973 through 1/1/2015?*"
   ]
  },
  {
   "cell_type": "markdown",
   "metadata": {},
   "source": [
    "### Daily Returns"
   ]
  },
  {
   "cell_type": "markdown",
   "metadata": {},
   "source": [
    "#### Annualized daily geometric returns "
   ]
  },
  {
   "cell_type": "markdown",
   "metadata": {},
   "source": [
    "From 1/1/1973 through 1/1/2015, there are in total of 10617 days in the sample. The daily geometric means could be found by\n",
    "\n",
    "$$ r_{geometric} = [(1 + r_1)(1 + r_2)\\cdots(1 + r_{n_{days}})] ^{\\frac{1}{n_{days}}} - 1$$\n",
    "\n",
    "$n_{days}$ represents the number of days in the sample"
   ]
  },
  {
   "cell_type": "code",
   "execution_count": 781,
   "metadata": {
    "collapsed": true
   },
   "outputs": [],
   "source": [
    "# daily geometric mean\n",
    "num_days = length(sp500_return[, caldt])\n",
    "daily_geo_return = (prod(sp500_return[, vwretd] + 1))^(1/num_days) - 1"
   ]
  },
  {
   "cell_type": "markdown",
   "metadata": {},
   "source": [
    "Annualize daily geometric return, $r_{annualized} = (1 + r_{daily}) ^ {252} - 1$"
   ]
  },
  {
   "cell_type": "code",
   "execution_count": 782,
   "metadata": {
    "collapsed": true
   },
   "outputs": [],
   "source": [
    "annualized_daily_geo_return = (1 + daily_geo_return) ^ 252 - 1"
   ]
  },
  {
   "cell_type": "markdown",
   "metadata": {},
   "source": [
    "#### Annualized daily artithmetic returns"
   ]
  },
  {
   "cell_type": "markdown",
   "metadata": {},
   "source": [
    "The arithmetic means could be found by\n",
    "\n",
    "$$ r_{arithmetic} = \\frac{r_1 + r_2 + r_3 + \\cdots + r_{n_{days}}}{n_{days}}$$"
   ]
  },
  {
   "cell_type": "code",
   "execution_count": 783,
   "metadata": {
    "collapsed": true
   },
   "outputs": [],
   "source": [
    "# daily arithmetic mean\n",
    "num_days = length(sp500_return[, caldt])\n",
    "daily_arith_return = sum(sp500_return[, vwretd])/num_days"
   ]
  },
  {
   "cell_type": "markdown",
   "metadata": {},
   "source": [
    "Annualize the arithmetic return, $r_{annualized} =  r_{daily} \\times 252$"
   ]
  },
  {
   "cell_type": "code",
   "execution_count": 784,
   "metadata": {
    "collapsed": true
   },
   "outputs": [],
   "source": [
    "annualized_daily_arithm_return = daily_arith_return * 252"
   ]
  },
  {
   "cell_type": "code",
   "execution_count": 785,
   "metadata": {
    "collapsed": true
   },
   "outputs": [],
   "source": [
    "daily_return = cbind(annualized_daily_geo_return,\n",
    "                        annualized_daily_arithm_return)"
   ]
  },
  {
   "cell_type": "markdown",
   "metadata": {},
   "source": [
    "### Monthly Returns"
   ]
  },
  {
   "cell_type": "markdown",
   "metadata": {},
   "source": [
    "#### Annualized monthly geometric returns "
   ]
  },
  {
   "cell_type": "markdown",
   "metadata": {},
   "source": [
    "From 1/1/1973 through 1/1/2015, there are in total of 504 months in the sample. The monthly geometric means could be found by\n",
    "\n",
    "$$ r_{geometric} = [(1 + r_1)(1 + r_2)\\cdots(1 + r_{n_{months}})] ^{\\frac{1}{n_{months}}} - 1$$\n",
    "\n",
    "$n_{months}$ represents the number of months in the sample. We need to first convert the data into monthly frequency. "
   ]
  },
  {
   "cell_type": "code",
   "execution_count": 786,
   "metadata": {
    "collapsed": true
   },
   "outputs": [],
   "source": [
    "# Convert data into monthly frequency\n",
    "sp500_monthly = sp500_return %>% \n",
    "                    group_by(month=floor_date(caldt, \"month\")) %>% \n",
    "                    summarise(vwretd = (function(r) prod(1 + r))(vwretd))%>%\n",
    "                    as.data.table() "
   ]
  },
  {
   "cell_type": "code",
   "execution_count": 787,
   "metadata": {
    "collapsed": true
   },
   "outputs": [],
   "source": [
    "# monthly geometric mean\n",
    "num_months = length(sp500_monthly[,month])\n",
    "monthly_geo_return = (prod(sp500_monthly[, vwretd]))^(1/num_months) - 1"
   ]
  },
  {
   "cell_type": "markdown",
   "metadata": {},
   "source": [
    "Annualize monthly geometric return, $r_{annualized} = (1 + r_{monthly}) ^ {12} - 1$"
   ]
  },
  {
   "cell_type": "code",
   "execution_count": 788,
   "metadata": {
    "collapsed": true
   },
   "outputs": [],
   "source": [
    "annualized_monthly_geo_return = (1 + monthly_geo_return)^12 - 1"
   ]
  },
  {
   "cell_type": "markdown",
   "metadata": {},
   "source": [
    "#### Annualized monthly arithmetic returns\n",
    "\n",
    "The monthly arithmetic means could be found by\n",
    "\n",
    "$$ r_{arithmetic} = \\frac{r_1 + r_2 + r_3 + \\cdots + r_{n_{motnhs}}}{n_{months}}$$ \n",
    "\n",
    "We could use the same monthly frequency data that is used to calculate monthly geometric mean."
   ]
  },
  {
   "cell_type": "code",
   "execution_count": 789,
   "metadata": {
    "collapsed": true
   },
   "outputs": [],
   "source": [
    "# monthly arithmetic mean\n",
    "num_months = length(sp500_monthly[,month])\n",
    "monthly_arithm_return = sum(sp500_monthly[, vwretd] - 1)/num_months"
   ]
  },
  {
   "cell_type": "markdown",
   "metadata": {},
   "source": [
    "Annualize the arithmetic return, $r_{annualized} =  r_{monthly} \\times 12$"
   ]
  },
  {
   "cell_type": "code",
   "execution_count": 790,
   "metadata": {
    "collapsed": true
   },
   "outputs": [],
   "source": [
    "annualized_monthly_arithm_return = monthly_arithm_return * 12"
   ]
  },
  {
   "cell_type": "code",
   "execution_count": 791,
   "metadata": {
    "collapsed": true
   },
   "outputs": [],
   "source": [
    "monthly_return = cbind(annualized_monthly_geo_return,\n",
    "                        annualized_monthly_arithm_return)"
   ]
  },
  {
   "cell_type": "markdown",
   "metadata": {},
   "source": [
    "### Annual Returns"
   ]
  },
  {
   "cell_type": "markdown",
   "metadata": {},
   "source": [
    "#### Annual geometric returns "
   ]
  },
  {
   "cell_type": "markdown",
   "metadata": {},
   "source": [
    "From 1/1/1973 through 1/1/2015, there are in total of 42 years. The annual geometric means could be found by\n",
    "\n",
    "$$ r_{geometric} = [(1 + r_1)(1 + r_2)\\cdots(1 + r_{n_{years}})] ^{\\frac{1}{n_{years}}} - 1 $$\n",
    "\n",
    "$n_{years}$ represents number of years in the sample. We need to first convert the data into annual frequency, but annualization is no longer needed. Same as monthly returns, due to the limitation of the *group_by* opreation in R, we will need to subtract 1 from the total months since 1/1/2015 does not count as an extra year"
   ]
  },
  {
   "cell_type": "code",
   "execution_count": 792,
   "metadata": {
    "collapsed": true
   },
   "outputs": [],
   "source": [
    "# Convert data into annual frequency\n",
    "sp500_annual = sp500_return %>% \n",
    "                    group_by(year=floor_date(caldt, \"year\")) %>% \n",
    "                    summarise(vwretd = (function(r) prod(1 + r))(vwretd))%>%\n",
    "                    as.data.table()"
   ]
  },
  {
   "cell_type": "code",
   "execution_count": 793,
   "metadata": {
    "collapsed": true
   },
   "outputs": [],
   "source": [
    "# annual geometric mean\n",
    "num_years = length(sp500_annual[,year])\n",
    "annual_geo_return = prod(sp500_annual[, vwretd])^(1/num_years) - 1"
   ]
  },
  {
   "cell_type": "markdown",
   "metadata": {
    "collapsed": true
   },
   "source": [
    "#### Annualized arithmetic returns\n",
    "\n",
    "The arithmetic means could be found by\n",
    "\n",
    "$$ r_{arithmetic} = \\frac{r_1 + r_2 + r_3 + \\cdots + r_{n_{years}}}{n_{years}}$$ \n",
    "\n",
    "We could use the same monthly frequency data that is used to calculate annual geometric mean"
   ]
  },
  {
   "cell_type": "code",
   "execution_count": 794,
   "metadata": {
    "collapsed": true
   },
   "outputs": [],
   "source": [
    "# annual arithmetic mean\n",
    "num_years = length(sp500_annual[,year])\n",
    "annual_arithm_return = sum(sp500_annual[, vwretd]- 1)/num_years"
   ]
  },
  {
   "cell_type": "code",
   "execution_count": 795,
   "metadata": {
    "collapsed": true
   },
   "outputs": [],
   "source": [
    "annual_return = cbind(annual_geo_return,\n",
    "                        annual_arithm_return)"
   ]
  },
  {
   "cell_type": "markdown",
   "metadata": {},
   "source": [
    "### 5 Year Returns"
   ]
  },
  {
   "cell_type": "markdown",
   "metadata": {},
   "source": [
    "There are in total of 42 years in this dataset, which indicates that there will be 2 extra years will not be able to make a full 5-year period. The two extra years will likely affect the magnitude of geometric return, therefore I decided to remove the year of 2014 and 2015 from the dataset, making it 8 total 5-year periods.  The annual geometric means could be found by\n",
    "\n",
    "$$ r_{geometric} = [(1 + r_1)(1 + r_2)\\cdots(1 + r_{n_{5\\_years}})] ^{\\frac{1}{n_{5\\_years}}} - 1$$\n",
    "\n",
    "$n_{5\\_years}$ represents number of years in the sample. We need to first convert the data into 5-year frequency."
   ]
  },
  {
   "cell_type": "code",
   "execution_count": 796,
   "metadata": {
    "collapsed": true
   },
   "outputs": [],
   "source": [
    "# remove the year 2013 and 2014\n",
    "sp500_return_short = sp500_return[year(caldt) >= 1975]"
   ]
  },
  {
   "cell_type": "code",
   "execution_count": 797,
   "metadata": {
    "collapsed": true,
    "scrolled": true
   },
   "outputs": [],
   "source": [
    "# Convert data into 5-year frequency\n",
    "sp500_5_year = sp500_return_short%>% \n",
    "                    group_by(yr5 = floor_date(caldt, \"5 years\")) %>% \n",
    "                    summarise(vwretd = (function(r) prod(1 + r))(vwretd))%>%\n",
    "                    as.data.table()"
   ]
  },
  {
   "cell_type": "code",
   "execution_count": 798,
   "metadata": {
    "collapsed": true
   },
   "outputs": [],
   "source": [
    "# 5 yr geometric mean\n",
    "num_5_years = length(sp500_5_year[,yr5])\n",
    "five_yr_geo_return = prod(sp500_5_year[, vwretd])^(1/num_5_years) - 1"
   ]
  },
  {
   "cell_type": "markdown",
   "metadata": {},
   "source": [
    "Annualize 5-year geometric return, $r_{annualized} = (1 + r_{5\\_year}) ^ {\\frac{1}{5}} - 1$"
   ]
  },
  {
   "cell_type": "code",
   "execution_count": 799,
   "metadata": {
    "collapsed": true
   },
   "outputs": [],
   "source": [
    "annualized_5yr_geo_return = (1 + five_yr_geo_return)^(1/5) - 1"
   ]
  },
  {
   "cell_type": "markdown",
   "metadata": {},
   "source": [
    "The arithmetic means could be found by\n",
    "\n",
    "$$ r_{arithmetic} = \\frac{r_1 + r_2 + r_3 + \\cdots + r_{n_{5\\_years}}}{n_{5\\_years}}$$ \n",
    "\n",
    "We could use the same monthly frequency data that is used to calculate 5-year geometric mean"
   ]
  },
  {
   "cell_type": "code",
   "execution_count": 800,
   "metadata": {
    "collapsed": true
   },
   "outputs": [],
   "source": [
    "# monthly arithmetic mean\n",
    "num_5_yr = length(sp500_5_year[,yr5])\n",
    "five_yr_arithm_return = sum(sp500_5_year[, vwretd]- 1)/num_5_yr"
   ]
  },
  {
   "cell_type": "markdown",
   "metadata": {},
   "source": [
    "Annualize 5-year geometric return, $r_{annualized} =  r_{5\\_year}\\times \\frac{1}{5}$"
   ]
  },
  {
   "cell_type": "code",
   "execution_count": 801,
   "metadata": {
    "collapsed": true
   },
   "outputs": [],
   "source": [
    "annualized_5yr_arithm_return = five_yr_arithm_return/5"
   ]
  },
  {
   "cell_type": "code",
   "execution_count": 802,
   "metadata": {
    "collapsed": true
   },
   "outputs": [],
   "source": [
    "yr5_return = cbind(annualized_5yr_geo_return,\n",
    "                        annualized_5yr_arithm_return)"
   ]
  },
  {
   "cell_type": "markdown",
   "metadata": {},
   "source": [
    "**Summary:** \n",
    "\n",
    "We will build a summary table for different peirod returns for S&P500 to see if there is anything interesting "
   ]
  },
  {
   "cell_type": "code",
   "execution_count": 803,
   "metadata": {},
   "outputs": [
    {
     "data": {},
     "metadata": {},
     "output_type": "display_data"
    },
    {
     "name": "stdout",
     "output_type": "stream",
     "text": [
      "           Geometric Return (%) Arithmetic Return (%)\n",
      "1:   Daily             10.33694              11.33416\n",
      "2: Monthly             10.35028              11.09121\n",
      "3:  Annual             10.35028              11.92816\n",
      "4:  5 Year             12.20949              18.78374\n"
     ]
    }
   ],
   "source": [
    "sp500_mean_returns = rbind(daily_return * 100, \n",
    "                           monthly_return * 100, \n",
    "                           annual_return * 100, \n",
    "                           yr5_return * 100)%>% as.data.table() %>%\n",
    "                           setNames(c('Geometric Return (%)', \n",
    "                                          'Arithmetic Return (%)'))\n",
    "                            \n",
    "sp500_mean_returns[, ` `:=c('Daily', 'Monthly', 'Annual', '5 Year')]\n",
    "setcolorder(sp500_mean_returns, c(3,1,2))\n",
    "# Display Summary Table\n",
    "print(sp500_mean_returns)"
   ]
  },
  {
   "cell_type": "markdown",
   "metadata": {},
   "source": [
    "From the summary table above, following conclusions could be drawn\n",
    "\n",
    "* arithmetic returns are always larger than geometric returns, regardless the period chosen as base of the calculations\n",
    "\n",
    "\n",
    "* annual geometric returns in 1973 and 1974 are negative, therefore the values 5-year return would be lower if the year 1973 and 1974 is included \n",
    "\n",
    "\n",
    "* **geometric return will be 9.77%**, and **arithmetic return will be 13.91%** if the **last two years (2013, 2014) are removed instead of the first two years (1973, 1974)**\n",
    "\n",
    "\n",
    "* removing the last two years could also be an option, and this assumption will result in a totally different result for both 5-year geometric and arithmetic returns\n",
    "\n",
    "\n",
    "* 5 year arithmetic return is the largest in value among different periods - there is a steep increase of average returns for 5 year"
   ]
  },
  {
   "cell_type": "markdown",
   "metadata": {
    "collapsed": true
   },
   "source": [
    "## Self Financing Portfolios"
   ]
  },
  {
   "cell_type": "markdown",
   "metadata": {},
   "source": [
    "We will proceed to answer the second question,\n",
    "\n",
    "*How would each of the four self-financed strategies with the prevailing short rate, the 30-day Treasury rate, the 1-year Treasury rate, and the 5-year Treasury rates, respectively have performed in terms of excess return? *"
   ]
  },
  {
   "cell_type": "markdown",
   "metadata": {},
   "source": [
    "The self-financing strategies are defined as the zero initial investments that our portfolio holds. We will use the treasury bills to finance the investment in stock markets"
   ]
  },
  {
   "cell_type": "markdown",
   "metadata": {},
   "source": [
    "**Data Import**\n",
    "\n",
    "The prevailing short rate, 30-day, 1-year and 5-year T-bill data are downloaded from WRDS's Federal Reserve repository"
   ]
  },
  {
   "cell_type": "markdown",
   "metadata": {},
   "source": [
    "## Excess Return for Prevailing Short Rates\n",
    "\n",
    "The prevailing short rate is the federal overnight rates, the data is availiable in WRDS"
   ]
  },
  {
   "cell_type": "code",
   "execution_count": 804,
   "metadata": {},
   "outputs": [
    {
     "data": {},
     "metadata": {},
     "output_type": "display_data"
    }
   ],
   "source": [
    "short_rate = fread('data/fed_fund_rate.csv')\n",
    "short_rate[, `:=` (date = as.Date(as.character(date), \n",
    "                                   format = '%Y%m%d', \n",
    "                                   origin = \"1960-10-01\"),\n",
    "                  daily_rf = FF_O/(100*252))]"
   ]
  },
  {
   "cell_type": "markdown",
   "metadata": {},
   "source": [
    "There are missing data in *short_rate* data table, we should first left join the *short_rate* table to *sp500_return* to make them have the same length"
   ]
  },
  {
   "cell_type": "code",
   "execution_count": 805,
   "metadata": {
    "collapsed": true
   },
   "outputs": [],
   "source": [
    "excess_return_daily = merge(sp500_return, short_rate[,c('date', 'daily_rf')], \n",
    "                            all.x = T, by.x = 'caldt', by.y = 'date')"
   ]
  },
  {
   "cell_type": "markdown",
   "metadata": {},
   "source": [
    "The missing data in *daily_rf* column could be imputed using last observation carry forward, which can be accomplished by na.locf function from package 'zoo'. By doing so we assumed the overnight rate does not change from the previous day if the data is missing "
   ]
  },
  {
   "cell_type": "code",
   "execution_count": 806,
   "metadata": {},
   "outputs": [
    {
     "data": {},
     "metadata": {},
     "output_type": "display_data"
    }
   ],
   "source": [
    "excess_return_daily[,daily_rf := na.locf(daily_rf)]"
   ]
  },
  {
   "cell_type": "markdown",
   "metadata": {},
   "source": [
    "After all the missing values are imputed, the daily excess return could be found. To find the daily excess return for S&P 500 over risk-free rates, we will need to have take the difference of two series."
   ]
  },
  {
   "cell_type": "code",
   "execution_count": 807,
   "metadata": {},
   "outputs": [
    {
     "data": {},
     "metadata": {},
     "output_type": "display_data"
    }
   ],
   "source": [
    "excess_return_daily[,excess_r := vwretd - daily_rf]"
   ]
  },
  {
   "cell_type": "markdown",
   "metadata": {},
   "source": [
    "### Geometric Mean for Daily Excess Returns\n",
    "\n",
    "The equation is the same as the geometric return equations above"
   ]
  },
  {
   "cell_type": "code",
   "execution_count": 808,
   "metadata": {
    "collapsed": true
   },
   "outputs": [],
   "source": [
    "num_days = length(excess_return_daily[, caldt])\n",
    "daily_geo_excess_return = (prod(excess_return_daily[, excess_r] + 1))^(1/num_days) - 1"
   ]
  },
  {
   "cell_type": "code",
   "execution_count": 809,
   "metadata": {
    "collapsed": true
   },
   "outputs": [],
   "source": [
    "annualized_daily_geo_excess_return = (1 + daily_geo_excess_return) ^ 252 - 1"
   ]
  },
  {
   "cell_type": "markdown",
   "metadata": {},
   "source": [
    "### Arthmetic Mean for Daily Excess Returns\n",
    "The equation is the same as the arithmetic return equations above"
   ]
  },
  {
   "cell_type": "code",
   "execution_count": 810,
   "metadata": {
    "collapsed": true
   },
   "outputs": [],
   "source": [
    "# daily arithmetic mean\n",
    "num_days = length(excess_return_daily[, caldt])\n",
    "daily_arith_excess_return = sum(excess_return_daily[, excess_r])/num_days"
   ]
  },
  {
   "cell_type": "code",
   "execution_count": 811,
   "metadata": {
    "collapsed": true
   },
   "outputs": [],
   "source": [
    "annualized_daily_arithm_excess_return = daily_arith_excess_return * 252"
   ]
  },
  {
   "cell_type": "code",
   "execution_count": 812,
   "metadata": {
    "collapsed": true
   },
   "outputs": [],
   "source": [
    "daily_excess = cbind(annualized_daily_geo_excess_return,\n",
    "                        annualized_daily_arithm_excess_return)"
   ]
  },
  {
   "cell_type": "markdown",
   "metadata": {},
   "source": [
    "## 30-day T-Bill Excess Return"
   ]
  },
  {
   "cell_type": "code",
   "execution_count": 813,
   "metadata": {
    "collapsed": true
   },
   "outputs": [],
   "source": [
    "# Treasury Bills constant maturity\n",
    "t_bills = fread(\"data/t_bills.csv\")\n",
    "t_bills = t_bills[,c(\"date\", \"TCMNOM_M1\", \"TCMNOM_Y1\", \"TCMNOM_Y5\")]"
   ]
  },
  {
   "cell_type": "code",
   "execution_count": 814,
   "metadata": {},
   "outputs": [
    {
     "data": {},
     "metadata": {},
     "output_type": "display_data"
    }
   ],
   "source": [
    "# import the daily promised treasury yield and convert the date column to date objects\n",
    "# convert the annualized yield to monthly frequency\n",
    "t_bill_30_day = t_bills[,c(\"date\", \"TCMNOM_M1\")]\n",
    "\n",
    "t_bill_30_day[, `:=` (month = as.Date(as.character(date), \n",
    "                                   format = '%Y%m%d', \n",
    "                                   origin = \"1960-10-01\"),\n",
    "                   t30ret = TCMNOM_M1/(100*12))]\n",
    "\n",
    "t_bill_30_day = t_bill_30_day[month >= '2001/07/01', c('month', 't30ret')]"
   ]
  },
  {
   "cell_type": "markdown",
   "metadata": {},
   "source": [
    "To find the excess return for S&P 500 over risk-free rates, we will need to have take the difference of two series. Since the two series have difference frequencies, we will convert the daily S&P 500 return to monthly S&P 500 return, which is stored in *sp500_monthly* dataset. Unfortunately the 30-day T-bill data is only avaliable after 2001/07/31, the period chosen for this calculations are after 2001/08/01"
   ]
  },
  {
   "cell_type": "code",
   "execution_count": 815,
   "metadata": {},
   "outputs": [
    {
     "data": {},
     "metadata": {},
     "output_type": "display_data"
    }
   ],
   "source": [
    "# subtract 1 to make to obtain return\n",
    "sp500_monthly[month >= '2001/07/01', vwretd:= vwretd - 1]"
   ]
  },
  {
   "cell_type": "markdown",
   "metadata": {},
   "source": [
    "We have a little issue here with the different dates,\n",
    "\n",
    "In the sp500_monthly data table, the monthly data is quoted as the beginning of the month while the risk_free data table quotes the monthly data as the end of the month,"
   ]
  },
  {
   "cell_type": "code",
   "execution_count": 816,
   "metadata": {},
   "outputs": [
    {
     "name": "stdout",
     "output_type": "stream",
     "text": [
      "        month      t30ret\n",
      "1: 2001-07-31 0.003058333\n",
      "2: 2001-08-31 0.002941667\n",
      "3: 2001-09-30 0.002233333\n",
      "4: 2001-10-31 0.001891667\n",
      "5: 2001-11-30 0.001658333\n"
     ]
    }
   ],
   "source": [
    "print(t_bill_30_day[1:5,])"
   ]
  },
  {
   "cell_type": "markdown",
   "metadata": {},
   "source": [
    "Therefore, we will need to convert the month-end date to the month-beginning date using floor_date"
   ]
  },
  {
   "cell_type": "code",
   "execution_count": 817,
   "metadata": {},
   "outputs": [
    {
     "data": {},
     "metadata": {},
     "output_type": "display_data"
    },
    {
     "name": "stdout",
     "output_type": "stream",
     "text": [
      "        month      t30ret\n",
      "1: 2001-07-01 0.003058333\n",
      "2: 2001-08-01 0.002941667\n",
      "3: 2001-09-01 0.002233333\n",
      "4: 2001-10-01 0.001891667\n",
      "5: 2001-11-01 0.001658333\n"
     ]
    }
   ],
   "source": [
    "t_bill_30_day[,month := floor_date(month, \"month\")]\n",
    "print(t_bill_30_day[1:5,])"
   ]
  },
  {
   "cell_type": "markdown",
   "metadata": {},
   "source": [
    "Merge two data tables and impute the missing values"
   ]
  },
  {
   "cell_type": "code",
   "execution_count": 818,
   "metadata": {},
   "outputs": [
    {
     "data": {},
     "metadata": {},
     "output_type": "display_data"
    }
   ],
   "source": [
    "# merge the two data tables\n",
    "excess_return_monthly = merge(sp500_monthly, t_bill_30_day, \n",
    "                                by.x = 'month', by.y = 'month')\n",
    "\n",
    "# Fill previous month value to missing value\n",
    "excess_return_monthly[,t30ret := na.locf(t30ret)]"
   ]
  },
  {
   "cell_type": "code",
   "execution_count": 819,
   "metadata": {},
   "outputs": [
    {
     "data": {},
     "metadata": {},
     "output_type": "display_data"
    }
   ],
   "source": [
    "# build excess return column\n",
    "excess_return_monthly[, excess_r :=  vwretd - t30ret]"
   ]
  },
  {
   "cell_type": "markdown",
   "metadata": {},
   "source": [
    "### Geometric Mean for 30-day Excess Returns\n",
    "\n",
    "The equation is the same as the geometric return equations above"
   ]
  },
  {
   "cell_type": "code",
   "execution_count": 820,
   "metadata": {
    "collapsed": true
   },
   "outputs": [],
   "source": [
    "num_months = length(excess_return_monthly[,month])\n",
    "monthly_geo_excess_return = (prod(1+ excess_return_monthly[, excess_r]))^(1/num_months) - 1"
   ]
  },
  {
   "cell_type": "code",
   "execution_count": 821,
   "metadata": {
    "collapsed": true
   },
   "outputs": [],
   "source": [
    "annualized_monthly_geo_excess_return = (1 + monthly_geo_excess_return)^12 - 1"
   ]
  },
  {
   "cell_type": "markdown",
   "metadata": {},
   "source": [
    "### Arthmetic Mean for 30-day Excess Returns\n",
    "The equation is the same as the arithmetic return equations above"
   ]
  },
  {
   "cell_type": "code",
   "execution_count": 822,
   "metadata": {
    "collapsed": true
   },
   "outputs": [],
   "source": [
    "num_months = length(excess_return_monthly[,month]) - 1\n",
    "monthly_arithm_excess_return = sum(excess_return_monthly[, excess_r])/num_months"
   ]
  },
  {
   "cell_type": "code",
   "execution_count": 823,
   "metadata": {
    "collapsed": true
   },
   "outputs": [],
   "source": [
    "annualized_monthly_arithm_excess_return = sum(monthly_arithm_excess_return)*12"
   ]
  },
  {
   "cell_type": "code",
   "execution_count": 824,
   "metadata": {
    "collapsed": true
   },
   "outputs": [],
   "source": [
    "monthly_excess = cbind(annualized_monthly_geo_excess_return,\n",
    "                        annualized_monthly_arithm_excess_return)"
   ]
  },
  {
   "cell_type": "markdown",
   "metadata": {},
   "source": [
    "## 1-year Excess Return\n",
    "\n",
    "The 1-year treasury yield data is also availiable on WRDS"
   ]
  },
  {
   "cell_type": "code",
   "execution_count": 825,
   "metadata": {},
   "outputs": [
    {
     "data": {},
     "metadata": {},
     "output_type": "display_data"
    }
   ],
   "source": [
    "t_bill_1yr = t_bills[,c(\"date\", \"TCMNOM_Y1\")]\n",
    "\n",
    "t_bill_1yr[, `:=` (month = as.Date(as.character(date), \n",
    "                                   format = '%Y%m%d', \n",
    "                                   origin = \"1960-10-01\"),\n",
    "                   b1ret = TCMNOM_Y1/(100*12))]\n",
    "\n",
    "t_bill_1yr = t_bill_1yr[, c('month', 'b1ret')]"
   ]
  },
  {
   "cell_type": "markdown",
   "metadata": {},
   "source": [
    "The 1-year treasury yield is quoted in monthly frequency, therefore should be adjusted to match the 1 year period of *sp500_annual*"
   ]
  },
  {
   "cell_type": "code",
   "execution_count": 826,
   "metadata": {
    "collapsed": true
   },
   "outputs": [],
   "source": [
    "# Convert data into annual frequency\n",
    "t_bill_1yr = t_bill_1yr%>% \n",
    "                    group_by(year = floor_date(month, \"year\")) %>% \n",
    "                    summarise(b1ret = (function(r) prod(1 + r))(b1ret))%>%\n",
    "                    as.data.table()"
   ]
  },
  {
   "cell_type": "markdown",
   "metadata": {},
   "source": [
    "1-year excess return could be found by merging with *sp500_annual*, missing values will again be imputed"
   ]
  },
  {
   "cell_type": "code",
   "execution_count": 827,
   "metadata": {},
   "outputs": [
    {
     "data": {},
     "metadata": {},
     "output_type": "display_data"
    }
   ],
   "source": [
    "# merge the two data tables\n",
    "annual_excess_return = merge(sp500_annual, t_bill_1yr, \n",
    "                                 by.x = 'year', by.y = 'year')\n",
    "# impute missing values\n",
    "annual_excess_return[, b1ret := na.locf(b1ret)]"
   ]
  },
  {
   "cell_type": "code",
   "execution_count": 828,
   "metadata": {},
   "outputs": [
    {
     "data": {},
     "metadata": {},
     "output_type": "display_data"
    }
   ],
   "source": [
    "# build excess return column\n",
    "annual_excess_return[, excess_r :=  vwretd - b1ret]"
   ]
  },
  {
   "cell_type": "markdown",
   "metadata": {},
   "source": [
    "### Geometric Mean for 1-year Excess Returns"
   ]
  },
  {
   "cell_type": "code",
   "execution_count": 829,
   "metadata": {
    "collapsed": true
   },
   "outputs": [],
   "source": [
    "num_years = length(annual_excess_return[,year])\n",
    "annual_geo_excess_return = (prod( 1+ annual_excess_return[, excess_r]))^(1/num_years) - 1"
   ]
  },
  {
   "cell_type": "markdown",
   "metadata": {},
   "source": [
    "### Arthmetic Mean for 1-year Excess Returns"
   ]
  },
  {
   "cell_type": "code",
   "execution_count": 830,
   "metadata": {
    "collapsed": true
   },
   "outputs": [],
   "source": [
    "num_years = length(annual_excess_return[,year])\n",
    "annual_arithm_excess_return = sum(annual_excess_return[, excess_r])/num_years"
   ]
  },
  {
   "cell_type": "code",
   "execution_count": 831,
   "metadata": {
    "collapsed": true
   },
   "outputs": [],
   "source": [
    "annual_excess = cbind(annual_geo_excess_return, \n",
    "                          annual_arithm_excess_return)"
   ]
  },
  {
   "cell_type": "markdown",
   "metadata": {},
   "source": [
    "## 5-year Excess Return\n",
    "\n",
    "Same as the 1-year excess returns, we have to find the corresponding 5 year T-bil rate on WRDS"
   ]
  },
  {
   "cell_type": "code",
   "execution_count": 832,
   "metadata": {},
   "outputs": [
    {
     "data": {},
     "metadata": {},
     "output_type": "display_data"
    }
   ],
   "source": [
    "t_bill_5yr = t_bills[,c(\"date\", \"TCMNOM_Y5\")]\n",
    "\n",
    "t_bill_5yr[, `:=` (month = as.Date(as.character(date), \n",
    "                                   format = '%Y%m%d', \n",
    "                                   origin = \"1960-10-01\"),\n",
    "                   b5ret = TCMNOM_Y5/(100*12))]\n",
    "\n",
    "t_bill_5yr = t_bill_5yr[year(month) >= 1975, c('month', 'b5ret')]"
   ]
  },
  {
   "cell_type": "markdown",
   "metadata": {},
   "source": [
    "The 5-year treasury yield is quoted in annual frequency, therefore should be adjusted to match the 5 year period of *sp500_5_year*"
   ]
  },
  {
   "cell_type": "code",
   "execution_count": 833,
   "metadata": {
    "collapsed": true
   },
   "outputs": [],
   "source": [
    "# Convert data into annual frequency\n",
    "t_bill_5yr = t_bill_5yr%>% \n",
    "                    group_by(yr5 = floor_date(month, \"5 years\")) %>% \n",
    "                    summarise(b5ret = (function(r) prod(1 + r))(b5ret))%>%\n",
    "                    as.data.table()"
   ]
  },
  {
   "cell_type": "markdown",
   "metadata": {},
   "source": [
    "5-year excess return could be found by merging with *sp500_5_year*"
   ]
  },
  {
   "cell_type": "code",
   "execution_count": 834,
   "metadata": {},
   "outputs": [
    {
     "data": {},
     "metadata": {},
     "output_type": "display_data"
    }
   ],
   "source": [
    "# merge the two data tables\n",
    "yr5_excess_return = merge(sp500_5_year, t_bill_5yr, by.x = 'yr5', by.y = 'yr5')\n",
    "\n",
    "# build excess return column\n",
    "yr5_excess_return[, excess_r :=  vwretd - b5ret]"
   ]
  },
  {
   "cell_type": "markdown",
   "metadata": {},
   "source": [
    "### Geometric Mean for 5-year Excess Returns"
   ]
  },
  {
   "cell_type": "code",
   "execution_count": 835,
   "metadata": {
    "collapsed": true
   },
   "outputs": [],
   "source": [
    "num_5_years = length(yr5_excess_return[,yr5])\n",
    "yr5_geo_excess_return = (prod( 1 + yr5_excess_return[, excess_r]))^(1/num_5_years) - 1"
   ]
  },
  {
   "cell_type": "code",
   "execution_count": 836,
   "metadata": {
    "collapsed": true
   },
   "outputs": [],
   "source": [
    "annualized_5yr_geo_return = (1 + yr5_geo_excess_return)^(1/5) - 1"
   ]
  },
  {
   "cell_type": "markdown",
   "metadata": {},
   "source": [
    "### Arthmetic Mean for 1-year Excess Returns"
   ]
  },
  {
   "cell_type": "code",
   "execution_count": 837,
   "metadata": {
    "collapsed": true
   },
   "outputs": [],
   "source": [
    "num_5_years = length(yr5_excess_return[,yr5])\n",
    "yr5_arithm_excess_return = sum(yr5_excess_return[, excess_r])/num_5_years"
   ]
  },
  {
   "cell_type": "code",
   "execution_count": 838,
   "metadata": {
    "collapsed": true
   },
   "outputs": [],
   "source": [
    "annualized_5yr_arithm_return = sum(yr5_arithm_excess_return)/5"
   ]
  },
  {
   "cell_type": "code",
   "execution_count": 839,
   "metadata": {
    "collapsed": true
   },
   "outputs": [],
   "source": [
    "yr5_excess = cbind(annualized_5yr_geo_return,\n",
    "                        annualized_5yr_arithm_return)"
   ]
  },
  {
   "cell_type": "markdown",
   "metadata": {
    "collapsed": true
   },
   "source": [
    "**Summary:** \n",
    "\n",
    "We will build a summary return table for different period excess returns"
   ]
  },
  {
   "cell_type": "code",
   "execution_count": 840,
   "metadata": {},
   "outputs": [
    {
     "data": {},
     "metadata": {},
     "output_type": "display_data"
    },
    {
     "name": "stdout",
     "output_type": "stream",
     "text": [
      "           Geometric Excess Return (%) Arithmetic Excess Return (%)\n",
      "1:   Daily                    4.293887                     5.700962\n",
      "2: Monthly                    4.572426                     5.637794\n",
      "3:  Annual                    4.428523                     6.119932\n",
      "4:  5 Year                    6.661580                    11.018330\n"
     ]
    }
   ],
   "source": [
    "excess_mean_returns = rbind(daily_excess * 100, \n",
    "                           monthly_excess * 100, \n",
    "                           annual_excess * 100, \n",
    "                           yr5_excess * 100) %>% as.data.table() %>%\n",
    "                           setNames(c('Geometric Excess Return (%)', \n",
    "                                          'Arithmetic Excess Return (%)'))\n",
    "                            \n",
    "excess_mean_returns[, ` `:=c('Daily', 'Monthly', 'Annual', '5 Year')]\n",
    "setcolorder(excess_mean_returns, c(3,1,2))\n",
    "\n",
    "# Display Summary Table\n",
    "print(excess_mean_returns)"
   ]
  },
  {
   "cell_type": "markdown",
   "metadata": {},
   "source": [
    "We will have a similar conclusion this time,\n",
    "\n",
    "* 5-year arithmetic returns remains the largest among all return values - way larger than the returns calculated from the other 3 frequencies\n",
    "\n",
    "\n",
    "* again, assumptions imposed are very important here - the missing data in daily returns could be imputed by different ways (or even removed from the series), while the **5-year returns can be totally different** if **different two years are removed (for example 2013 and 2014)**\n",
    "\n",
    "\n",
    "* with the assumptions right now, the 5-year arithmetic excess returns still blows up due to the large S&P 500 5-year arithmetic returns"
   ]
  },
  {
   "cell_type": "markdown",
   "metadata": {},
   "source": [
    "# Conclusion"
   ]
  },
  {
   "cell_type": "markdown",
   "metadata": {},
   "source": [
    "Based on the analysis above, we could draw the conclusion that arithmetic return could be the more attractive value for funds to show to their investors than geometric returns. When there are non-divisible periods of data avaliable, the assumptions imposed would largely affect the result of the calculation. The overlapping time series could greatly affect the performance outlook for a certain investment, but geometric returns are the ones that investors could really retain. Therefore, investors should be careful with the quoted return values when choosing their investments of different funds.Going back to the last key question, \n",
    "\n",
    "*Does overlapping the longer-term series lead to different inference? *\n",
    "\n",
    "The answer is definitely a **yes**."
   ]
  }
 ],
 "metadata": {
  "kernelspec": {
   "display_name": "R",
   "language": "R",
   "name": "ir"
  },
  "language_info": {
   "codemirror_mode": "r",
   "file_extension": ".r",
   "mimetype": "text/x-r-source",
   "name": "R",
   "pygments_lexer": "r",
   "version": "3.4.1"
  }
 },
 "nbformat": 4,
 "nbformat_minor": 2
}
