{
 "cells": [
  {
   "cell_type": "markdown",
   "metadata": {
    "collapsed": true
   },
   "source": [
    "# Project 5 - Reconciliation"
   ]
  },
  {
   "cell_type": "markdown",
   "metadata": {},
   "source": [
    "Bowen Chen\n",
    "\n",
    "Feburary 19, 2018"
   ]
  },
  {
   "cell_type": "markdown",
   "metadata": {},
   "source": [
    "## Executive Summary"
   ]
  },
  {
   "cell_type": "markdown",
   "metadata": {},
   "source": [
    "In this project, we attempt to examine the different methodologies used by my classmates for the previous two projects - Event Study and Big Data Transformation for Annual Return Set. While my Event Study project results are dramatically different from Henry's (possibly due to data sources being different in the first place), I actually was able to obtain identical results with Luis in my Annual Return Set project. However, there are still differences in treatments of the last day of existence for stocks. The difference in methods used and ways to reconcile the dataset are discussed in this project"
   ]
  },
  {
   "cell_type": "markdown",
   "metadata": {},
   "source": [
    "## Key Questions to Answer"
   ]
  },
  {
   "cell_type": "markdown",
   "metadata": {},
   "source": [
    "* How did Henry's treatment of edge cases affect the result of the project?\n",
    "\n",
    "\n",
    "* How did Luis's treatment for end dates affect the result of the project?"
   ]
  },
  {
   "cell_type": "markdown",
   "metadata": {},
   "source": [
    "## Computation"
   ]
  },
  {
   "cell_type": "markdown",
   "metadata": {},
   "source": [
    "R Setup"
   ]
  },
  {
   "cell_type": "code",
   "execution_count": 13,
   "metadata": {
    "collapsed": true
   },
   "outputs": [],
   "source": [
    "library(data.table)\n",
    "library(magrittr)\n",
    "library(dplyr)"
   ]
  },
  {
   "cell_type": "markdown",
   "metadata": {},
   "source": [
    "**Project 2 Reconciliation**"
   ]
  },
  {
   "cell_type": "markdown",
   "metadata": {},
   "source": [
    "My Event Day Return"
   ]
  },
  {
   "cell_type": "code",
   "execution_count": 24,
   "metadata": {
    "collapsed": true
   },
   "outputs": [],
   "source": [
    "Bowen_returnHW2 = fread(\"data//BowenHW2.csv\")"
   ]
  },
  {
   "cell_type": "markdown",
   "metadata": {},
   "source": [
    "Henry's Event Day Return"
   ]
  },
  {
   "cell_type": "code",
   "execution_count": 23,
   "metadata": {
    "collapsed": true
   },
   "outputs": [],
   "source": [
    "Henry_returnHW2 = fread(\"data//HenryHW2.csv\")"
   ]
  },
  {
   "cell_type": "markdown",
   "metadata": {},
   "source": [
    "Merge two datasets"
   ]
  },
  {
   "cell_type": "code",
   "execution_count": 33,
   "metadata": {},
   "outputs": [
    {
     "data": {
      "text/html": [
       "<table>\n",
       "<thead><tr><th scope=col>date</th><th scope=col>PERMNO</th><th scope=col>BowenDay0Ret</th><th scope=col>HenryDay0Ret</th></tr></thead>\n",
       "<tbody>\n",
       "\t<tr><td>1/13/2010 </td><td>10001     </td><td>-0.016089 </td><td>-0.011783 </td></tr>\n",
       "\t<tr><td>2/10/2010 </td><td>10001     </td><td>-0.019489 </td><td>-0.015086 </td></tr>\n",
       "\t<tr><td>3/11/2010 </td><td>10001     </td><td>-0.006866 </td><td>-0.002376 </td></tr>\n",
       "\t<tr><td>4/13/2010 </td><td>10001     </td><td>-0.001843 </td><td> 0.002267 </td></tr>\n",
       "\t<tr><td>5/12/2010 </td><td>10001     </td><td>-0.026294 </td><td>-0.022073 </td></tr>\n",
       "\t<tr><td>6/11/2010 </td><td>10001     </td><td>-0.011458 </td><td>-0.007667 </td></tr>\n",
       "\t<tr><td>7/13/2010 </td><td>10001     </td><td>-0.015524 </td><td>-0.011433 </td></tr>\n",
       "\t<tr><td>8/11/2010 </td><td>10001     </td><td> 0.024045 </td><td> 0.027859 </td></tr>\n",
       "\t<tr><td>9/13/2010 </td><td>10001     </td><td>-0.020503 </td><td>-0.016485 </td></tr>\n",
       "\t<tr><td>10/13/2010</td><td>10001     </td><td>-0.002780 </td><td> 0.001264 </td></tr>\n",
       "</tbody>\n",
       "</table>\n"
      ],
      "text/latex": [
       "\\begin{tabular}{r|llll}\n",
       " date & PERMNO & BowenDay0Ret & HenryDay0Ret\\\\\n",
       "\\hline\n",
       "\t 1/13/2010  & 10001      & -0.016089  & -0.011783 \\\\\n",
       "\t 2/10/2010  & 10001      & -0.019489  & -0.015086 \\\\\n",
       "\t 3/11/2010  & 10001      & -0.006866  & -0.002376 \\\\\n",
       "\t 4/13/2010  & 10001      & -0.001843  &  0.002267 \\\\\n",
       "\t 5/12/2010  & 10001      & -0.026294  & -0.022073 \\\\\n",
       "\t 6/11/2010  & 10001      & -0.011458  & -0.007667 \\\\\n",
       "\t 7/13/2010  & 10001      & -0.015524  & -0.011433 \\\\\n",
       "\t 8/11/2010  & 10001      &  0.024045  &  0.027859 \\\\\n",
       "\t 9/13/2010  & 10001      & -0.020503  & -0.016485 \\\\\n",
       "\t 10/13/2010 & 10001      & -0.002780  &  0.001264 \\\\\n",
       "\\end{tabular}\n"
      ],
      "text/markdown": [
       "\n",
       "date | PERMNO | BowenDay0Ret | HenryDay0Ret | \n",
       "|---|---|---|---|---|---|---|---|---|---|\n",
       "| 1/13/2010  | 10001      | -0.016089  | -0.011783  | \n",
       "| 2/10/2010  | 10001      | -0.019489  | -0.015086  | \n",
       "| 3/11/2010  | 10001      | -0.006866  | -0.002376  | \n",
       "| 4/13/2010  | 10001      | -0.001843  |  0.002267  | \n",
       "| 5/12/2010  | 10001      | -0.026294  | -0.022073  | \n",
       "| 6/11/2010  | 10001      | -0.011458  | -0.007667  | \n",
       "| 7/13/2010  | 10001      | -0.015524  | -0.011433  | \n",
       "| 8/11/2010  | 10001      |  0.024045  |  0.027859  | \n",
       "| 9/13/2010  | 10001      | -0.020503  | -0.016485  | \n",
       "| 10/13/2010 | 10001      | -0.002780  |  0.001264  | \n",
       "\n",
       "\n"
      ],
      "text/plain": [
       "   date       PERMNO BowenDay0Ret HenryDay0Ret\n",
       "1  1/13/2010  10001  -0.016089    -0.011783   \n",
       "2  2/10/2010  10001  -0.019489    -0.015086   \n",
       "3  3/11/2010  10001  -0.006866    -0.002376   \n",
       "4  4/13/2010  10001  -0.001843     0.002267   \n",
       "5  5/12/2010  10001  -0.026294    -0.022073   \n",
       "6  6/11/2010  10001  -0.011458    -0.007667   \n",
       "7  7/13/2010  10001  -0.015524    -0.011433   \n",
       "8  8/11/2010  10001   0.024045     0.027859   \n",
       "9  9/13/2010  10001  -0.020503    -0.016485   \n",
       "10 10/13/2010 10001  -0.002780     0.001264   "
      ]
     },
     "metadata": {},
     "output_type": "display_data"
    }
   ],
   "source": [
    "merge(Bowen_returnHW2, Henry_returnHW2, all.x = T,\n",
    "      by.x = c('date','PERMNO'), by.y =  c('date','PERMNO'), sort = F)[1:10, ] %>%\n",
    "        setNames(nm =c('date','PERMNO', 'BowenDay0Ret', 'HenryDay0Ret'))"
   ]
  },
  {
   "cell_type": "markdown",
   "metadata": {},
   "source": [
    "The result we obtained are dramatically different from each other, mainly due to different datasets were used. I used the column 'RCCRDT', which is the record date of every stock event, while Henry used the 'DCLRDT', which is the declaration date of every stock events. Looking at the raw datasets, I have found that the return on the event day are different. The most likely reason is the data sources we used are different in the first place. Also, the treatment of event days edge cases were also different. I deleted all of the records that does not have -20 or +20 days before and after the event record days, while Henry elected to keep them."
   ]
  },
  {
   "cell_type": "markdown",
   "metadata": {},
   "source": [
    "Reconcile these two results could be a very difficult task. I would first have to load the same dataset as Henry did. Also, I will have to find a way to keep all the edge dividend event days index - currently my algorithm would generate negative date indices for days that are not present in the dataset, which would break the program. I think leaving those days return as 0 would be a good option."
   ]
  },
  {
   "cell_type": "markdown",
   "metadata": {},
   "source": [
    "**Project 3 Reconciliations**"
   ]
  },
  {
   "cell_type": "markdown",
   "metadata": {
    "collapsed": true
   },
   "source": [
    "My Annual Return Set for Project 3"
   ]
  },
  {
   "cell_type": "code",
   "execution_count": 18,
   "metadata": {
    "collapsed": true
   },
   "outputs": [],
   "source": [
    "Bowen_tableHW3 = fread(\"data//BowenHW3.csv\")"
   ]
  },
  {
   "cell_type": "markdown",
   "metadata": {},
   "source": [
    "Luis's Annual Return Set for Project 3"
   ]
  },
  {
   "cell_type": "code",
   "execution_count": 19,
   "metadata": {
    "collapsed": true
   },
   "outputs": [],
   "source": [
    "Luis_tableHW3 = fread(\"data//dt_100PERMNO.csv\")"
   ]
  },
  {
   "cell_type": "markdown",
   "metadata": {},
   "source": [
    "merge two datasets and display the return "
   ]
  },
  {
   "cell_type": "code",
   "execution_count": 48,
   "metadata": {},
   "outputs": [
    {
     "data": {
      "text/html": [
       "<table>\n",
       "<thead><tr><th scope=col>date</th><th scope=col>PERMNO</th><th scope=col>BowenAnnualRet</th><th scope=col>LuisAnnualRet</th></tr></thead>\n",
       "<tbody>\n",
       "\t<tr><td>1926-12-31  </td><td>10006       </td><td> 0.008757617</td><td> 0.008757617</td></tr>\n",
       "\t<tr><td>1927-12-31  </td><td>10006       </td><td> 0.150645231</td><td> 0.150645231</td></tr>\n",
       "\t<tr><td>1928-12-31  </td><td>10006       </td><td>-0.054262619</td><td>-0.054262619</td></tr>\n",
       "\t<tr><td>1930-12-31  </td><td>10006       </td><td>-0.598322636</td><td>-0.598322636</td></tr>\n",
       "\t<tr><td>1931-12-31  </td><td>10006       </td><td>-0.739717117</td><td>-0.739717117</td></tr>\n",
       "\t<tr><td>1932-12-31  </td><td>10006       </td><td> 0.037040870</td><td> 0.037040870</td></tr>\n",
       "\t<tr><td>1934-12-31  </td><td>10006       </td><td>-0.244895544</td><td>-0.244895544</td></tr>\n",
       "\t<tr><td>1935-12-31  </td><td>10006       </td><td> 0.831088490</td><td> 0.831088490</td></tr>\n",
       "\t<tr><td>1936-12-31  </td><td>10006       </td><td> 0.749082620</td><td> 0.749082620</td></tr>\n",
       "\t<tr><td>1937-12-31  </td><td>10006       </td><td>-0.597352164</td><td>-0.597352164</td></tr>\n",
       "</tbody>\n",
       "</table>\n"
      ],
      "text/latex": [
       "\\begin{tabular}{r|llll}\n",
       " date & PERMNO & BowenAnnualRet & LuisAnnualRet\\\\\n",
       "\\hline\n",
       "\t 1926-12-31   & 10006        &  0.008757617 &  0.008757617\\\\\n",
       "\t 1927-12-31   & 10006        &  0.150645231 &  0.150645231\\\\\n",
       "\t 1928-12-31   & 10006        & -0.054262619 & -0.054262619\\\\\n",
       "\t 1930-12-31   & 10006        & -0.598322636 & -0.598322636\\\\\n",
       "\t 1931-12-31   & 10006        & -0.739717117 & -0.739717117\\\\\n",
       "\t 1932-12-31   & 10006        &  0.037040870 &  0.037040870\\\\\n",
       "\t 1934-12-31   & 10006        & -0.244895544 & -0.244895544\\\\\n",
       "\t 1935-12-31   & 10006        &  0.831088490 &  0.831088490\\\\\n",
       "\t 1936-12-31   & 10006        &  0.749082620 &  0.749082620\\\\\n",
       "\t 1937-12-31   & 10006        & -0.597352164 & -0.597352164\\\\\n",
       "\\end{tabular}\n"
      ],
      "text/markdown": [
       "\n",
       "date | PERMNO | BowenAnnualRet | LuisAnnualRet | \n",
       "|---|---|---|---|---|---|---|---|---|---|\n",
       "| 1926-12-31   | 10006        |  0.008757617 |  0.008757617 | \n",
       "| 1927-12-31   | 10006        |  0.150645231 |  0.150645231 | \n",
       "| 1928-12-31   | 10006        | -0.054262619 | -0.054262619 | \n",
       "| 1930-12-31   | 10006        | -0.598322636 | -0.598322636 | \n",
       "| 1931-12-31   | 10006        | -0.739717117 | -0.739717117 | \n",
       "| 1932-12-31   | 10006        |  0.037040870 |  0.037040870 | \n",
       "| 1934-12-31   | 10006        | -0.244895544 | -0.244895544 | \n",
       "| 1935-12-31   | 10006        |  0.831088490 |  0.831088490 | \n",
       "| 1936-12-31   | 10006        |  0.749082620 |  0.749082620 | \n",
       "| 1937-12-31   | 10006        | -0.597352164 | -0.597352164 | \n",
       "\n",
       "\n"
      ],
      "text/plain": [
       "   date       PERMNO BowenAnnualRet LuisAnnualRet\n",
       "1  1926-12-31 10006   0.008757617    0.008757617 \n",
       "2  1927-12-31 10006   0.150645231    0.150645231 \n",
       "3  1928-12-31 10006  -0.054262619   -0.054262619 \n",
       "4  1930-12-31 10006  -0.598322636   -0.598322636 \n",
       "5  1931-12-31 10006  -0.739717117   -0.739717117 \n",
       "6  1932-12-31 10006   0.037040870    0.037040870 \n",
       "7  1934-12-31 10006  -0.244895544   -0.244895544 \n",
       "8  1935-12-31 10006   0.831088490    0.831088490 \n",
       "9  1936-12-31 10006   0.749082620    0.749082620 \n",
       "10 1937-12-31 10006  -0.597352164   -0.597352164 "
      ]
     },
     "metadata": {},
     "output_type": "display_data"
    }
   ],
   "source": [
    "merge(Bowen_tableHW3[, c('PERMNO', 'year', 'Annual Return')], \n",
    "      Luis_tableHW3[, c('PERMNO', 'date', 'ANNUAL_RET.V1')],\n",
    "      by.x = c('year','PERMNO'), by.y =  c('date','PERMNO'), sort = F)[1:10, ] %>%\n",
    "        setNames(nm =c('date','PERMNO', 'BowenAnnualRet', 'LuisAnnualRet'))"
   ]
  },
  {
   "cell_type": "markdown",
   "metadata": {},
   "source": [
    "The result Luis and me obtained are identical, however, some of the date index we built are different. I used the floor_date function, which pushed the all the dates to the 12-31 of that year. Luis, on the other hand, used the last function to find the last day in a year that the stock has a return data present in the dataset, which allowed some of the stocks to have last existence day as a date in the middle of the year. When merging two datasets, the mismatched index will show as NA in the dataset."
   ]
  },
  {
   "cell_type": "markdown",
   "metadata": {},
   "source": [
    "The way to reconcile our results are actually very simple - I could just change my *floor_date* function into *last* function, which could allow all the date index being on the same axis."
   ]
  }
 ],
 "metadata": {
  "kernelspec": {
   "display_name": "R",
   "language": "R",
   "name": "ir"
  },
  "language_info": {
   "codemirror_mode": "r",
   "file_extension": ".r",
   "mimetype": "text/x-r-source",
   "name": "R",
   "pygments_lexer": "r",
   "version": "3.4.1"
  }
 },
 "nbformat": 4,
 "nbformat_minor": 2
}
