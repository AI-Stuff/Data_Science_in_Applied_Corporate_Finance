{
 "cells": [
  {
   "cell_type": "markdown",
   "metadata": {},
   "source": [
    "# Project 2 - Event Studies"
   ]
  },
  {
   "cell_type": "markdown",
   "metadata": {},
   "source": [
    "Bowen Chen\n",
    "\n",
    "January 26, 2018"
   ]
  },
  {
   "cell_type": "markdown",
   "metadata": {},
   "source": [
    "## Executive Summary"
   ]
  },
  {
   "cell_type": "markdown",
   "metadata": {},
   "source": [
    "In this event study project, the performance of the stock during 40 closest days near a dividend event is examined. Since the stock price often drop on the dividend date, there is a common misunderstanding of change in stock's market value. From the analysis, it is clear that **stock returns recovers to its normal level** after recording a **-0.7%** drop on dividend ex-date **in a really short period of time**. It is also an evidence of the stationarity of stock's market value - stock's market value is determined by the outlook of investors of the market that will not be affected by events like dividend payouts."
   ]
  },
  {
   "cell_type": "markdown",
   "metadata": {},
   "source": [
    "## Key Questions to Answer"
   ]
  },
  {
   "cell_type": "markdown",
   "metadata": {},
   "source": [
    "*From the year 2010 to 2016,*\n",
    "\n",
    "\n",
    "* How stocks perform in terms of excess rates of return when they are actually paying a dividend?\n",
    "\n",
    "\n",
    "* Is there a clear change in stock's market value if the stock is paying a dividend?"
   ]
  },
  {
   "cell_type": "markdown",
   "metadata": {},
   "source": [
    "## Computations"
   ]
  },
  {
   "cell_type": "markdown",
   "metadata": {},
   "source": [
    "R setup, import all the necessary packages"
   ]
  },
  {
   "cell_type": "code",
   "execution_count": 14,
   "metadata": {},
   "outputs": [],
   "source": [
    "library(data.table)\n",
    "library(reshape2)\n",
    "library(magrittr)\n",
    "library(lubridate)\n",
    "library(dplyr)\n",
    "library(ggplot2)\n",
    "options(repr.plot.width= 6, repr.plot.height=4, warn = -1)"
   ]
  },
  {
   "cell_type": "markdown",
   "metadata": {},
   "source": [
    "**Import Data**\n",
    "\n",
    "Import both stock returns and S&P500. The events data is downloaded from the CRSP database in the Whorton Research Data Services  under \"Stock/Events\" section, which is being stored in *StockReturns*. *StockReturns* consists of 4 columns, \n",
    "* PERMNO - The unique stock identifier\n",
    "* date - The date, in daily frequency\n",
    "* RCRDDT - The dividend payout date \n",
    "* RETX - The stock's daily return\n",
    "\n",
    "The S&P 500 data is download CRSP database under \"Index / S&P 500 Indexes\", which is being stored in *SP500*. *SP500* consists of 2 columns,\n",
    "\n",
    "* date - The date, in daily frequency\n",
    "* vwretd - S&P 500's daily return, with the dividend distributin adjusted"
   ]
  },
  {
   "cell_type": "code",
   "execution_count": 2,
   "metadata": {},
   "outputs": [
    {
     "name": "stdout",
     "output_type": "stream",
     "text": [
      "\r",
      "Read 24.0% of 12116406 rows\r",
      "Read 51.8% of 12116406 rows\r",
      "Read 79.0% of 12116406 rows\r",
      "Read 12116406 rows and 4 (of 4) columns from 0.311 GB file in 00:00:05\n"
     ]
    }
   ],
   "source": [
    "StockReturns = fread(\"data//events.csv\")\n",
    "SP500 = fread(\"data//SP500.csv\")"
   ]
  },
  {
   "cell_type": "markdown",
   "metadata": {},
   "source": [
    "**Event Days**\n",
    "\n",
    "The *StockReturns* is a giant datatable that consists of daily return data of over 10,000 stocks from 2010 to 2016. Since the dividend event does not happen every day, the column that contains dividend payout date is very sparse. For simplicity purposes, the event date (ex-date) is chosen to be the day that dividend payout date is recorded. All of the events are stored in a separate data table named *eventdays*"
   ]
  },
  {
   "cell_type": "code",
   "execution_count": 3,
   "metadata": {},
   "outputs": [
    {
     "data": {},
     "metadata": {},
     "output_type": "display_data"
    }
   ],
   "source": [
    "eventdays = StockReturns[RCRDDT!='',c('PERMNO','date', 'RCRDDT')]\n",
    "eventdays[,date := as.Date(date, format = '%m/%d/%Y')]\n",
    "setkey(eventdays, PERMNO)"
   ]
  },
  {
   "cell_type": "markdown",
   "metadata": {},
   "source": [
    "**Filter non-event stocks**\n",
    "\n",
    "A few exploratory data analysis showed that not all of the stock has a dividend payout during the analysis period. These stocks are removed to make the dataset smaller. After the filtering, there are around 7500 stocks left"
   ]
  },
  {
   "cell_type": "code",
   "execution_count": 4,
   "metadata": {
    "collapsed": true
   },
   "outputs": [],
   "source": [
    "hasEvent = unique(eventdays$PERMNO)"
   ]
  },
  {
   "cell_type": "code",
   "execution_count": 5,
   "metadata": {},
   "outputs": [
    {
     "data": {},
     "metadata": {},
     "output_type": "display_data"
    }
   ],
   "source": [
    "StockReturns[,  `:=` (date = as.Date(date, format = '%m/%d/%Y'),\n",
    "                      RETX = as.numeric(RETX))]\n",
    "\n",
    "StockReturns = StockReturns[PERMNO %in% hasEvent,]"
   ]
  },
  {
   "cell_type": "markdown",
   "metadata": {},
   "source": [
    "**Find all excess returns** \n",
    "\n",
    "The S&P 500 data table is joined to the stock return table, the excess return of each stock over S&P is found. Since the dataset is too large, setting the key of the *StockExcessReturns* is very important for performance reasons"
   ]
  },
  {
   "cell_type": "code",
   "execution_count": 6,
   "metadata": {},
   "outputs": [
    {
     "data": {},
     "metadata": {},
     "output_type": "display_data"
    }
   ],
   "source": [
    "SP500[,caldt := ymd(caldt)]"
   ]
  },
  {
   "cell_type": "code",
   "execution_count": 7,
   "metadata": {},
   "outputs": [
    {
     "data": {},
     "metadata": {},
     "output_type": "display_data"
    }
   ],
   "source": [
    "StockExcessReturns = merge(StockReturns, SP500, \n",
    "                            all.x = T, by.x = 'date', by.y = 'caldt', na.rm = TRUE)\n",
    "\n",
    "StockExcessReturns[, `:=`(excess_return = RETX - vwretd)]\n",
    "setkey(StockExcessReturns, PERMNO)"
   ]
  },
  {
   "cell_type": "markdown",
   "metadata": {},
   "source": [
    "**Generating Event Windows**\n",
    "\n",
    "Generating the event windows is the toughest part of this analysis. The methodology of event study is to line up all stock excess returns on the event dates, find the -20 to 20 days of stock returns and calculate the mean across all stock-days. There are 3 main hurdles in performing such a task,\n",
    "\n",
    "1. There are overlapping periods when the stock paying dividends too frequently (less than 40 days between two dividend payout days). After careful consideration, the overlapping period will not be a issue since each event is treated differently\n",
    "\n",
    "2. The stock pays out dividends before 20 days has passed in the dataset. This will lead to missing data in the data table that hosts all the events, therefore is removed.\n",
    "\n",
    "3. Different stock dividend payout should be able distinguish themselves."
   ]
  },
  {
   "cell_type": "markdown",
   "metadata": {},
   "source": [
    "To distinguish events for different stocks, the *StockExcessReturns*, *eventdays* data table are split into groups by its unique identifier - PERMNO"
   ]
  },
  {
   "cell_type": "code",
   "execution_count": 8,
   "metadata": {
    "collapsed": true
   },
   "outputs": [],
   "source": [
    "StockGroups = split(StockExcessReturns, StockExcessReturns$PERMNO)\n",
    "eventGroups = split(eventdays, eventdays$PERMNO)"
   ]
  },
  {
   "cell_type": "markdown",
   "metadata": {
    "collapsed": true
   },
   "source": [
    "**Generate event window returns for a single stock**\n",
    "\n",
    "To generate event window for all stock, we will need to start from a single stock and generalize that technique. For every single stock group, \n",
    "\n",
    "1. identify the event date, and choose the 20 days before and 20 days after the event day\n",
    "2. extract the excess returns of that 41 days and save them in a 2D array"
   ]
  },
  {
   "cell_type": "code",
   "execution_count": 9,
   "metadata": {
    "collapsed": true
   },
   "outputs": [],
   "source": [
    "findEventReturns <- function(x, y)\n",
    "{\n",
    "    # save all ex_dates\n",
    "    events = y[,date]\n",
    "    ex_date = which(x[,date] %in% events)\n",
    "    \n",
    "    # build event windows for every 41 days\n",
    "    event_window = as.vector(mapply(seq, ex_date - 20, ex_date + 20))\n",
    "    event_windows = split(event_window, ceiling(seq_along(event_window)/41))\n",
    "    \n",
    "    # remove ex-days without a full event window\n",
    "    event_windows =  event_windows[sapply(event_windows, function(i) (i[1] > 0 & i[41] < 1762))]\n",
    "    eventset = t(sapply(event_windows, function (i) x[i,excess_return]))   \n",
    "        \n",
    "    return (eventset)\n",
    "}"
   ]
  },
  {
   "cell_type": "markdown",
   "metadata": {},
   "source": [
    "**Generate the event window for all stocks**\n",
    "\n",
    "Now the function could be applied to all of the StockGroups, return the result as a list of that contains all the dividend events. This opreation is similar to cross-applying two lists that have corresponding stock identifiers"
   ]
  },
  {
   "cell_type": "code",
   "execution_count": 10,
   "metadata": {
    "collapsed": true
   },
   "outputs": [],
   "source": [
    "eventStudyList = mapply(findEventReturns, x = StockGroups, y = eventGroups)"
   ]
  },
  {
   "cell_type": "markdown",
   "metadata": {},
   "source": [
    "**Collect the data into one event study table**\n",
    "\n",
    "The event window is stored in a giant list. To find the mean of each event study day, the list of event study need to be converted to a data table. Since some of the stocks have been unlisted from NYSE after a certain period, the missing return data is treated as 0"
   ]
  },
  {
   "cell_type": "code",
   "execution_count": 11,
   "metadata": {
    "collapsed": true
   },
   "outputs": [],
   "source": [
    "eventStudyList = lapply(eventStudyList, as.data.table)\n",
    "eventStudytable = rbindlist(eventStudyList)\n",
    "eventStudytable[is.na(eventStudytable)] = 0 "
   ]
  },
  {
   "cell_type": "markdown",
   "metadata": {},
   "source": [
    "** Mean return of each day** \n",
    "\n",
    "Find mean of the every day of event study window"
   ]
  },
  {
   "cell_type": "code",
   "execution_count": 12,
   "metadata": {
    "collapsed": true
   },
   "outputs": [],
   "source": [
    "eventStudymean = as.data.table(cbind( days = seq(-20,20),\n",
    "                                      excess_return = apply(eventStudytable, 2, mean)))"
   ]
  },
  {
   "cell_type": "markdown",
   "metadata": {},
   "source": [
    "**Visualization**\n",
    "\n",
    "To have a better view of how stock performs during a dividend payout, plot the return of the event study window of 41 days in a line plot"
   ]
  },
  {
   "cell_type": "code",
   "execution_count": 13,
   "metadata": {},
   "outputs": [
    {
     "data": {},
     "metadata": {},
     "output_type": "display_data"
    },
    {
     "data": {
      "image/png": "[encoded data removed]",
      "text/plain": [
       "plot without title"
      ]
     },
     "metadata": {},
     "output_type": "display_data"
    }
   ],
   "source": [
    "# Plot Event Study Return\n",
    "ggplot(data=eventStudymean, aes(x=days, y= excess_return, group=1)) +\n",
    "  theme_bw()+\n",
    "  geom_line(color=\"#56B4E9\") +\n",
    "  geom_point(color=\"#56B4E9\")+\n",
    "  ylim(-0.01, 0.005) +\n",
    "  labs(title = \"Stock Returns Near Dividend Payout ExDate\",\n",
    "  x = \"Time (t)\", \n",
    "  y = expression(paste(\"Stock Return (\",r[t], \")\")),\n",
    "  parse = TRUE)"
   ]
  },
  {
   "cell_type": "markdown",
   "metadata": {},
   "source": [
    "Now it is time to answer the key question,\n",
    "\n",
    "*How stocks perform in terms of excess rates of return when they are actually paying a dividend?*"
   ]
  },
  {
   "cell_type": "markdown",
   "metadata": {},
   "source": [
    "The stocks clearly has a sharpe drop in value on the ex-dividend date due to the anticipation of stock price change across all the investors. There are some moderate signs of stock price rising before the ex-date - possibly due to the buying activities of investors having positive outlooks for the dividend paying stock. After the dividend ex-date, the realtive low value of stock value could induce more buying activities for the stock, evident from the 4 days of stock having positive returns. Eventually the stock goes back to the level before the dividend is paid."
   ]
  },
  {
   "cell_type": "markdown",
   "metadata": {},
   "source": [
    "So, *Is there a clear change in stock's market value if the stock is paying a dividend?*"
   ]
  },
  {
   "cell_type": "markdown",
   "metadata": {},
   "source": [
    "Clearly, the answer is no. The stock price will be temporary lower immediately after the dividend payout, but the market value of stock is determined by the outlook of investors of the market. If the stock price is low, the investors will keep buying it until the stock is back to its fair value"
   ]
  }
 ],
 "metadata": {
  "kernelspec": {
   "display_name": "R",
   "language": "R",
   "name": "ir"
  },
  "language_info": {
   "codemirror_mode": "r",
   "file_extension": ".r",
   "mimetype": "text/x-r-source",
   "name": "R",
   "pygments_lexer": "r",
   "version": "3.4.1"
  }
 },
 "nbformat": 4,
 "nbformat_minor": 2
}
